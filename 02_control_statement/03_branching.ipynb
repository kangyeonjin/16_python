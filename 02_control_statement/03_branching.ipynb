{
 "cells": [
  {
   "cell_type": "markdown",
   "metadata": {
    "vscode": {
     "languageId": "plaintext"
    }
   },
   "source": [
    "#03 분기문\n",
    "---\n",
    "## 03-01 분기문개요\n",
    "### 03-01-01 분기문이란\n",
    "* 반복문 내에서 조건문과 함께 작성되어, 실행을 종료시키는 역할을 한다"
   ]
  },
  {
   "cell_type": "markdown",
   "metadata": {
    "vscode": {
     "languageId": "plaintext"
    }
   },
   "source": [
    "## 03-02 break\n",
    "* 조건문 또는 반복문의 실행구문에서 코드가 break를 만나면 해당 블록의 실행이 종료된다"
   ]
  },
  {
   "cell_type": "code",
   "execution_count": 2,
   "metadata": {},
   "outputs": [
    {
     "name": "stdout",
     "output_type": "stream",
     "text": [
      "1회차 시작\n",
      "1회차끝\n",
      "2회차 시작\n",
      "2회차 중단\n"
     ]
    }
   ],
   "source": [
    "for x in [1,2,3]:\n",
    "    print(f\"{x}회차 시작\")\n",
    "    \n",
    "    if x == 2:\n",
    "        print(f\"{x}회차 중단\")\n",
    "        break;\n",
    "    \n",
    "    print(f\"{x}회차끝\")"
   ]
  },
  {
   "cell_type": "markdown",
   "metadata": {},
   "source": [
    "##03-03 continue\n",
    "*반복문의 실행구문에서 코드가continue를 만나면 continue이후의 블록내 코드는 더이상 실행되지 않고 다음 반복으로 넘어간다 "
   ]
  },
  {
   "cell_type": "code",
   "execution_count": 3,
   "metadata": {},
   "outputs": [
    {
     "name": "stdout",
     "output_type": "stream",
     "text": [
      "1회차 시작\n",
      "1회차끝\n",
      "2회차 시작\n",
      "2회차 중단\n",
      "3회차 시작\n",
      "3회차끝\n"
     ]
    }
   ],
   "source": [
    "for x in [1,2,3]:\n",
    "    print(f\"{x}회차 시작\")\n",
    "    \n",
    "    if x == 2:\n",
    "        print(f\"{x}회차 중단\")\n",
    "        continue;\n",
    "    \n",
    "    print(f\"{x}회차끝\")"
   ]
  }
 ],
 "metadata": {
  "kernelspec": {
   "display_name": "pylecture_env",
   "language": "python",
   "name": "python3"
  },
  "language_info": {
   "codemirror_mode": {
    "name": "ipython",
    "version": 3
   },
   "file_extension": ".py",
   "mimetype": "text/x-python",
   "name": "python",
   "nbconvert_exporter": "python",
   "pygments_lexer": "ipython3",
   "version": "3.12.7"
  }
 },
 "nbformat": 4,
 "nbformat_minor": 2
}
