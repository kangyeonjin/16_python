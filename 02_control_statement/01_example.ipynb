{
 "cells": [
  {
   "cell_type": "markdown",
   "metadata": {},
   "source": [
    "#시험점수를 입력받아 학점을 출력하는 프로그램을 작성하세요\n",
    "#90점이상 :A <br>\n",
    "#80점이상 90점 미만 :B <br>\n",
    "#70점이상 80점 미만 :C<br>\n",
    "#60점이상 70점 미만 :D<br>\n",
    "#60점 미만 :F\n",
    "\n",
    "점수 = int(input(\"시험 점수를 입력하세요: \"))"
   ]
  },
  {
   "cell_type": "code",
   "execution_count": 3,
   "metadata": {},
   "outputs": [
    {
     "name": "stdout",
     "output_type": "stream",
     "text": [
      "B\n"
     ]
    }
   ],
   "source": [
    "\n",
    "score = int(input(\"점수를 입력하세요 :\"))\n",
    "\n",
    "if score >= 90:\n",
    "    print('A')\n",
    "elif score >= 80 :\n",
    "    print('B')\n",
    "elif score >= 70:\n",
    "    print('C')\n",
    "elif score >= 60:\n",
    "    print('D')\n",
    "else:\n",
    "    print('F')\n",
    "\n"
   ]
  },
  {
   "cell_type": "markdown",
   "metadata": {},
   "source": [
    "# 1부터 7까지의 숫자를 입력받아 해당하는 요일을 출력하는 프로그램을 작성하세요.\n",
    "# 1: 월요일, 2: 화요일, ..., 7: 일요일\n",
    "# match-case 문을 사용하세요.\n",
    "\n",
    "숫자 = int(input(\"1부터 7까지의 숫자를 입력하세요: \"))"
   ]
  },
  {
   "cell_type": "code",
   "execution_count": 4,
   "metadata": {},
   "outputs": [
    {
     "name": "stdout",
     "output_type": "stream",
     "text": [
      "수요일\n"
     ]
    }
   ],
   "source": [
    "weekly = int(input(\"1부터 7까지의 숫자를 입력하세요 : \"))\n",
    "\n",
    "match weekly:\n",
    "    case 1:\n",
    "        print('월요일')\n",
    "    case 2:\n",
    "        print('화요일')\n",
    "    case 3:\n",
    "        print('수요일')\n",
    "    case 4:\n",
    "        print('목요일')\n",
    "    case 5:\n",
    "        print('금요일')\n",
    "    case 6:\n",
    "        print('토요일')\n",
    "    case 7:\n",
    "        print('일요일')"
   ]
  },
  {
   "cell_type": "markdown",
   "metadata": {
    "vscode": {
     "languageId": "plaintext"
    }
   },
   "source": [
    "\n",
    "# 미리 설정된 아이디와 비밀번호가 있다고 가정합니다.\n",
    "# 사용자로부터 아이디와 비밀번호를 입력받아 로그인 성공 여부를 출력하는 프로그램을 작성하세요.\n",
    "\n",
    "설정된_아이디 = \"python\"\n",
    "설정된_비밀번호 = \"1234\"\n",
    "\n",
    "입력_아이디 = input(\"아이디를 입력하세요: \")\n",
    "입력_비밀번호 = input(\"비밀번호를 입력하세요: \")"
   ]
  },
  {
   "cell_type": "code",
   "execution_count": 5,
   "metadata": {},
   "outputs": [
    {
     "name": "stdout",
     "output_type": "stream",
     "text": [
      "로그인성공\n"
     ]
    }
   ],
   "source": [
    "id = input(\"아이디를 입력하세요 :\")\n",
    "pw = input(\"비밀번호를 입력하세요 : \")\n",
    "\n",
    "stored_id = \"python\"\n",
    "stored_pw = \"1234\"\n",
    "\n",
    "if id == stored_id and pw == stored_pw:\n",
    "    print(\"로그인성공\")\n",
    "else :\n",
    "    print(\"로그인실패\")\n",
    "\n",
    "\n"
   ]
  },
  {
   "cell_type": "markdown",
   "metadata": {},
   "source": [
    "# 1. while 루프를 사용하여 사용자가 '종료'를 입력할 때까지 계속해서 사용자의 입력을 받고 출력하는 프로그램을 작성하세요.\n",
    "\n",
    "     "
   ]
  },
  {
   "cell_type": "code",
   "execution_count": 6,
   "metadata": {},
   "outputs": [
    {
     "name": "stdout",
     "output_type": "stream",
     "text": [
      "입력한 내용: 안녕\n",
      "프로그램을 종료합니다.\n"
     ]
    }
   ],
   "source": [
    "\n",
    "while True:\n",
    "    user_input = input(\"입력하세요 ('종료'를 입력하면 종료됩니다): \")\n",
    "    if user_input == '종료':\n",
    "        print(\"프로그램을 종료합니다.\")\n",
    "        break\n",
    "    print(f\"입력한 내용: {user_input}\")\n"
   ]
  },
  {
   "cell_type": "markdown",
   "metadata": {},
   "source": [
    "# 2. for 루프와 range() 함수를 사용하여 1부터 20까지의 짝수만 출력하는 프로그램을 작성하세요."
   ]
  },
  {
   "cell_type": "code",
   "execution_count": 7,
   "metadata": {},
   "outputs": [
    {
     "name": "stdout",
     "output_type": "stream",
     "text": [
      "2\n",
      "4\n",
      "6\n",
      "8\n",
      "10\n",
      "12\n",
      "14\n",
      "16\n",
      "18\n",
      "20\n"
     ]
    }
   ],
   "source": [
    "for i in range(2, 21, 2):\n",
    "    print(i)"
   ]
  },
  {
   "cell_type": "markdown",
   "metadata": {},
   "source": [
    "\n",
    "# 3. 다음 리스트에서 각 동물의 이름과 글자 수를 출력하는 프로그램을 작성하세요:\n",
    "\n",
    "animals = ['고양이', '강아지', '코끼리', '기린']"
   ]
  },
  {
   "cell_type": "code",
   "execution_count": 9,
   "metadata": {},
   "outputs": [
    {
     "name": "stdout",
     "output_type": "stream",
     "text": [
      "0 고양이\n",
      "1 강아지\n",
      "2 코끼리\n",
      "3 기린\n",
      "고양이: 3 글자\n",
      "강아지: 3 글자\n",
      "코끼리: 3 글자\n",
      "기린: 2 글자\n"
     ]
    }
   ],
   "source": [
    "\n",
    "animals = ['고양이', '강아지', '코끼리', '기린']\n",
    "\n",
    "for i in range(len(animals)):\n",
    "    print(i, animals[i])\n",
    "    \n",
    "for animal in animals:\n",
    "    print(f\"{animal}: {len(animal)} 글자\")\n"
   ]
  }
 ],
 "metadata": {
  "kernelspec": {
   "display_name": "pylecture_env",
   "language": "python",
   "name": "python3"
  },
  "language_info": {
   "codemirror_mode": {
    "name": "ipython",
    "version": 3
   },
   "file_extension": ".py",
   "mimetype": "text/x-python",
   "name": "python",
   "nbconvert_exporter": "python",
   "pygments_lexer": "ipython3",
   "version": "3.12.7"
  }
 },
 "nbformat": 4,
 "nbformat_minor": 2
}
