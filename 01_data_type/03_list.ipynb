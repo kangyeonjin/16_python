{
 "cells": [
  {
   "cell_type": "markdown",
   "metadata": {},
   "source": [
    "#03.리스트(list)\n",
    "\n",
    "---\n",
    "## 03.01 리스트개요\n",
    "### 03-01-01 리스트란\n",
    "*일련의 값이 모인 집합을 다루기 위한 자료형, python은 배열과 같은 표현식을 쓰지만\n",
    ", 일반적인프로그래밍 언어와 다르게, 길이를 동적으로 조절할수있어 list라고 부른다.\n",
    "\n",
    "## 03-01-02 리스트표현식"
   ]
  },
  {
   "cell_type": "code",
   "execution_count": 1,
   "metadata": {},
   "outputs": [
    {
     "ename": "SyntaxError",
     "evalue": "invalid syntax. Perhaps you forgot a comma? (2698047120.py, line 1)",
     "output_type": "error",
     "traceback": [
      "\u001b[1;36m  Cell \u001b[1;32mIn[1], line 1\u001b[1;36m\u001b[0m\n\u001b[1;33m    리스트명 = ['값1','값2' ...]\u001b[0m\n\u001b[1;37m                 ^\u001b[0m\n\u001b[1;31mSyntaxError\u001b[0m\u001b[1;31m:\u001b[0m invalid syntax. Perhaps you forgot a comma?\n"
     ]
    }
   ],
   "source": [
    "리스트명 = ['값1','값2' ...]"
   ]
  },
  {
   "cell_type": "markdown",
   "metadata": {},
   "source": [
    "*list의 각요소의 자료형은 무엇이든 될수있다(서로다른 자료형이어도 괜찮다)\n",
    "*list에 저장되는 요소들은 0부터 시작하는 인덱스 체계로 구분해서 저장된다\n"
   ]
  },
  {
   "cell_type": "code",
   "execution_count": 4,
   "metadata": {},
   "outputs": [
    {
     "name": "stdout",
     "output_type": "stream",
     "text": [
      "['orange', 'apple', 'pear', 'banana', 'apple']\n",
      "orange\n",
      "pear\n"
     ]
    }
   ],
   "source": [
    "fruits = ['orange','apple','pear','banana','apple']\n",
    "print(fruits)\n",
    "print(fruits[0])\n",
    "print(fruits[2])"
   ]
  },
  {
   "cell_type": "markdown",
   "metadata": {},
   "source": [
    "### 03-01-03 문자열의 split()\n",
    "*문자열을 구분자 기준으로 분리하여list로 변환해주는 메서드\n"
   ]
  },
  {
   "cell_type": "code",
   "execution_count": 5,
   "metadata": {},
   "outputs": [
    {
     "name": "stdout",
     "output_type": "stream",
     "text": [
      "['빨', '주', '노', '초', '파', '남', '보']\n"
     ]
    }
   ],
   "source": [
    "rainbow = '빨-주-노-초-파-남-보'\n",
    "print(rainbow.split('-'))"
   ]
  },
  {
   "cell_type": "markdown",
   "metadata": {},
   "source": [
    "### 03-01-04 list()메서드\n",
    "반복가능한 객체를 받아서 각 요소를 리스트의 원소뤄 반환"
   ]
  },
  {
   "cell_type": "code",
   "execution_count": 6,
   "metadata": {},
   "outputs": [
    {
     "name": "stdout",
     "output_type": "stream",
     "text": [
      "True\n",
      "<class 'list'>\n",
      "<class 'list'>\n"
     ]
    }
   ],
   "source": [
    "list1= [] #빈리스트를 생성\n",
    "list2 = list() #새로운 빈 리스트를 생성한다\n",
    "print(list1 == list2)\n",
    "print(type(list1))\n",
    "print(type(list2))"
   ]
  },
  {
   "cell_type": "code",
   "execution_count": 7,
   "metadata": {},
   "outputs": [
    {
     "name": "stdout",
     "output_type": "stream",
     "text": [
      "['h', 'e', 'l', 'l', 'o']\n"
     ]
    }
   ],
   "source": [
    "list3 = list('hello')\n",
    "print(list3)"
   ]
  },
  {
   "cell_type": "markdown",
   "metadata": {},
   "source": [
    "---\n",
    "###03-02 리스트연산"
   ]
  },
  {
   "cell_type": "code",
   "execution_count": 9,
   "metadata": {},
   "outputs": [
    {
     "name": "stdout",
     "output_type": "stream",
     "text": [
      "['Monkey', 'Tiger', 'Wolf']\n"
     ]
    }
   ],
   "source": [
    "safari_list = [\"Bear\", \"korea\",\"Gorilla\",\"Sqirrel\"]\n",
    "another_safari_list = [\"Monkey\" ,\"Tiger\" ,\"Wolf\"]\n",
    "\n",
    "print(another_safari_list)"
   ]
  },
  {
   "cell_type": "code",
   "execution_count": 10,
   "metadata": {},
   "outputs": [
    {
     "name": "stdout",
     "output_type": "stream",
     "text": [
      "['Bear', 'korea', 'Gorilla', 'Sqirrel', 'Monkey', 'Tiger', 'Wolf']\n"
     ]
    }
   ],
   "source": [
    "print(safari_list+another_safari_list)"
   ]
  },
  {
   "cell_type": "markdown",
   "metadata": {},
   "source": [
    "###03-02-02 리스트 반복:*\n",
    "*리스트에 *연산을 하면 요소를 반복할수있다"
   ]
  },
  {
   "cell_type": "code",
   "execution_count": 11,
   "metadata": {},
   "outputs": [
    {
     "name": "stdout",
     "output_type": "stream",
     "text": [
      "['Bear', 'korea', 'Gorilla', 'Sqirrel', 'Bear', 'korea', 'Gorilla', 'Sqirrel', 'Bear', 'korea', 'Gorilla', 'Sqirrel', 'Bear', 'korea', 'Gorilla', 'Sqirrel']\n"
     ]
    }
   ],
   "source": [
    "print(safari_list*4)"
   ]
  },
  {
   "cell_type": "markdown",
   "metadata": {},
   "source": [
    "## 03-03리스트메서드"
   ]
  },
  {
   "cell_type": "code",
   "execution_count": 13,
   "metadata": {},
   "outputs": [
    {
     "data": {
      "text/plain": [
       "['orange', 'apple', 'pear', 'banana', 'kiwi', 'apple']"
      ]
     },
     "execution_count": 13,
     "metadata": {},
     "output_type": "execute_result"
    }
   ],
   "source": [
    "fruits = ['orange', 'apple','pear','banana','kiwi','apple']\n",
    "fruits"
   ]
  },
  {
   "cell_type": "markdown",
   "metadata": {},
   "source": [
    "###index()\n",
    "*배열에서 특정요소의 인덱스값을 구하는메서드\n"
   ]
  },
  {
   "cell_type": "code",
   "execution_count": 14,
   "metadata": {},
   "outputs": [
    {
     "name": "stdout",
     "output_type": "stream",
     "text": [
      "index :  1\n"
     ]
    }
   ],
   "source": [
    "print(\"index : \", fruits.index(\"apple\"))"
   ]
  },
  {
   "cell_type": "code",
   "execution_count": 15,
   "metadata": {},
   "outputs": [
    {
     "ename": "ValueError",
     "evalue": "'apple1' is not in list",
     "output_type": "error",
     "traceback": [
      "\u001b[1;31m---------------------------------------------------------------------------\u001b[0m",
      "\u001b[1;31mValueError\u001b[0m                                Traceback (most recent call last)",
      "Cell \u001b[1;32mIn[15], line 1\u001b[0m\n\u001b[1;32m----> 1\u001b[0m \u001b[38;5;28mprint\u001b[39m(\u001b[38;5;124m\"\u001b[39m\u001b[38;5;124mindex :\u001b[39m\u001b[38;5;124m\"\u001b[39m, \u001b[43mfruits\u001b[49m\u001b[38;5;241;43m.\u001b[39;49m\u001b[43mindex\u001b[49m\u001b[43m(\u001b[49m\u001b[38;5;124;43m\"\u001b[39;49m\u001b[38;5;124;43mapple1\u001b[39;49m\u001b[38;5;124;43m\"\u001b[39;49m\u001b[43m)\u001b[49m)\n",
      "\u001b[1;31mValueError\u001b[0m: 'apple1' is not in list"
     ]
    }
   ],
   "source": [
    "print(\"index :\", fruits.index(\"apple1\"))"
   ]
  },
  {
   "cell_type": "code",
   "execution_count": 16,
   "metadata": {},
   "outputs": [
    {
     "name": "stdout",
     "output_type": "stream",
     "text": [
      "index : 5\n"
     ]
    }
   ],
   "source": [
    "print(\"index :\", fruits.index(\"apple\", 3)) #세번쨰부터 찾아요"
   ]
  },
  {
   "cell_type": "markdown",
   "metadata": {},
   "source": [
    "###reverse()\n",
    "*배열을 역순으로 바꿔준다"
   ]
  },
  {
   "cell_type": "code",
   "execution_count": 18,
   "metadata": {},
   "outputs": [
    {
     "name": "stdout",
     "output_type": "stream",
     "text": [
      "['orange', 'apple', 'pear', 'banana', 'kiwi', 'apple']\n",
      "['apple', 'kiwi', 'banana', 'pear', 'apple', 'orange']\n"
     ]
    }
   ],
   "source": [
    "print(fruits)\n",
    "\n",
    "fruits.reverse()\n",
    "\n",
    "print(fruits)"
   ]
  },
  {
   "cell_type": "markdown",
   "metadata": {},
   "source": [
    "##append()\n",
    "리스트의 끝에 새로운 요소를 추가하는 메소드"
   ]
  },
  {
   "cell_type": "code",
   "execution_count": 19,
   "metadata": {},
   "outputs": [
    {
     "name": "stdout",
     "output_type": "stream",
     "text": [
      "['apple', 'kiwi', 'banana', 'pear', 'apple', 'orange', 'pineapple']\n"
     ]
    }
   ],
   "source": [
    "fruits.append(\"pineapple\")\n",
    "print(fruits)"
   ]
  },
  {
   "cell_type": "markdown",
   "metadata": {},
   "source": [
    "extend()\n",
    "*리스트의 끝에 다른 리스트의 요소를 추가\n"
   ]
  },
  {
   "cell_type": "code",
   "execution_count": 20,
   "metadata": {},
   "outputs": [
    {
     "name": "stdout",
     "output_type": "stream",
     "text": [
      "['apple', 'kiwi', 'banana', 'pear', 'apple', 'orange', 'pineapple', 'rainbow fruit', 'sweet lemon', 'happy apple']\n"
     ]
    }
   ],
   "source": [
    "another_fruits = ['rainbow fruit', 'sweet lemon','happy apple']\n",
    "fruits.extend(another_fruits)\n",
    "print(fruits)"
   ]
  },
  {
   "cell_type": "markdown",
   "metadata": {},
   "source": [
    "insert()\n",
    "특정위치에 요소를 삽입하는 메서드"
   ]
  },
  {
   "cell_type": "code",
   "execution_count": 21,
   "metadata": {},
   "outputs": [
    {
     "name": "stdout",
     "output_type": "stream",
     "text": [
      "['apple', 'monkey banana', 'kiwi', 'banana', 'pear', 'apple', 'orange', 'pineapple', 'rainbow fruit', 'sweet lemon', 'happy apple']\n"
     ]
    }
   ],
   "source": [
    "fruits.insert(1, 'monkey banana')\n",
    "print(fruits)"
   ]
  },
  {
   "cell_type": "markdown",
   "metadata": {},
   "source": [
    "###sort()\n",
    "리스트의 요소를 정렬할때 사용하는 메서드"
   ]
  },
  {
   "cell_type": "code",
   "execution_count": 25,
   "metadata": {},
   "outputs": [
    {
     "name": "stdout",
     "output_type": "stream",
     "text": [
      "['apple', 'apple', 'banana', 'happy apple', 'kiwi', 'monkey banana', 'orange', 'pear', 'pineapple', 'rainbow fruit', 'sweet lemon']\n",
      "['sweet lemon', 'rainbow fruit', 'pineapple', 'pear', 'orange', 'monkey banana', 'kiwi', 'happy apple', 'banana', 'apple', 'apple']\n",
      "['pear', 'kiwi', 'apple', 'apple', 'orange', 'banana', 'pineapple', 'sweet lemon', 'happy apple', 'rainbow fruit', 'monkey banana']\n"
     ]
    }
   ],
   "source": [
    "#기본정렬\n",
    "fruits.sort()\n",
    "print(fruits)\n",
    "\n",
    "#내림차순정렬\n",
    "fruits.sort(reverse=True)\n",
    "print(fruits)\n",
    "\n",
    "#문자열길이가 짧은 순으로 정렬\n",
    "fruits.sort(key=len)\n",
    "print(fruits)"
   ]
  },
  {
   "cell_type": "markdown",
   "metadata": {},
   "source": [
    "---\n",
    "###remove()\n",
    "리스트에서 특정값을 찾아 제거하는 메서드"
   ]
  },
  {
   "cell_type": "code",
   "execution_count": 26,
   "metadata": {},
   "outputs": [
    {
     "name": "stdout",
     "output_type": "stream",
     "text": [
      "['pear', 'apple', 'apple', 'orange', 'banana', 'pineapple', 'sweet lemon', 'happy apple', 'rainbow fruit', 'monkey banana']\n"
     ]
    }
   ],
   "source": [
    "fruits.remove('kiwi')\n",
    "print(fruits)"
   ]
  },
  {
   "cell_type": "markdown",
   "metadata": {},
   "source": [
    "###pop()\n",
    "특정위치에 있는 요소를 제거하고 반환하는 메서드\n",
    "인덱스를 지정하지 ㅇ낳으면 리스트의 마지막 요소를 제거하고 반환"
   ]
  },
  {
   "cell_type": "code",
   "execution_count": 27,
   "metadata": {},
   "outputs": [
    {
     "name": "stdout",
     "output_type": "stream",
     "text": [
      "pear\n",
      "['apple', 'apple', 'orange', 'banana', 'pineapple', 'sweet lemon', 'happy apple', 'rainbow fruit', 'monkey banana']\n"
     ]
    }
   ],
   "source": [
    "temp = fruits.pop(0)\n",
    "print(temp)\n",
    "print(fruits)"
   ]
  },
  {
   "cell_type": "markdown",
   "metadata": {},
   "source": [
    "---\n",
    "## 03-05 del키워드\n",
    "### 03-05-01 del\n",
    "*객체를 삭제할때 사용되는 키워드\n",
    "*리스트의 특정요소를 삭제하거나 변수를 삭제할때 사용한다\n"
   ]
  },
  {
   "cell_type": "code",
   "execution_count": 31,
   "metadata": {},
   "outputs": [
    {
     "name": "stdout",
     "output_type": "stream",
     "text": [
      "['b', 'c', 'f']\n",
      "['b']\n",
      "[]\n"
     ]
    }
   ],
   "source": [
    "abc_list =['a','b','c','f']\n",
    "del abc_list[0] #0번째 인덱스의 요소제거\n",
    "print(abc_list)\n",
    "\n",
    "del abc_list[1:3]\n",
    "print(abc_list)\n",
    "\n",
    "del abc_list[:] #모든요소를 제거\n",
    "print(abc_list)"
   ]
  },
  {
   "cell_type": "markdown",
   "metadata": {},
   "source": [
    "#01. 튜플(tuple)\n",
    "---\n",
    "#04-01 튜플개요\n",
    "여러개의 값을 하나의 변수에 저장할수있는 자료구조이디ㅏ\n",
    "튜플은 한번 생성되면 그 값을 변경할숭벗다\n",
    "\n",
    "040102 튜플 표현식\n",
    "튜플은 소괄호를 사용하거나 사용하지 않고 생성할수있으며,\n",
    "생성된 이후에는 그 값을 변경할수없다"
   ]
  },
  {
   "cell_type": "code",
   "execution_count": null,
   "metadata": {},
   "outputs": [],
   "source": [
    "튜플명 = ['값1','값2',...]"
   ]
  },
  {
   "cell_type": "code",
   "execution_count": 35,
   "metadata": {},
   "outputs": [
    {
     "name": "stdout",
     "output_type": "stream",
     "text": [
      "((1, 2, 'hello'), ('test', 1, 2, 3, 4))\n",
      "hello\n",
      "(1, 2, 3)\n"
     ]
    }
   ],
   "source": [
    "tuples = (1,2,'hello'), ('test',1,2,3,4)\n",
    "print(tuples)\n",
    "print(tuples[0][2])\n",
    "\n",
    "no_wrap_tuple=1,2,3\n",
    "print(no_wrap_tuple)\n"
   ]
  },
  {
   "cell_type": "markdown",
   "metadata": {},
   "source": [
    "---\n",
    "## 04-02 튜플연산\n",
    "### 04-02-01 불변객체\n",
    "*튜플은 불변객체이므로 요소 값을 할당하면, 추가, 수정, 삭제가 불가하다\n",
    "*이때 값을 재할당하면 값이 다시 입력될수있는데  <br>\n",
    "기존의 변수에 값이 재할당되는것이 아닌 새로운 변수가 생성되는것\n"
   ]
  },
  {
   "cell_type": "code",
   "execution_count": 36,
   "metadata": {},
   "outputs": [
    {
     "ename": "SyntaxError",
     "evalue": "invalid syntax. Perhaps you forgot a comma? (2415193532.py, line 1)",
     "output_type": "error",
     "traceback": [
      "\u001b[1;36m  Cell \u001b[1;32mIn[36], line 1\u001b[1;36m\u001b[0m\n\u001b[1;33m    tuples =(1,2 'hello'),('test', 1,2,3,4)\u001b[0m\n\u001b[1;37m               ^\u001b[0m\n\u001b[1;31mSyntaxError\u001b[0m\u001b[1;31m:\u001b[0m invalid syntax. Perhaps you forgot a comma?\n"
     ]
    }
   ],
   "source": [
    "tuples =(1,2 'hello'),('test', 1,2,3,4)\n",
    "tuples[0] = (1,2,3,4)"
   ]
  },
  {
   "cell_type": "code",
   "execution_count": 38,
   "metadata": {},
   "outputs": [
    {
     "name": "stdout",
     "output_type": "stream",
     "text": [
      "1226542443040\n",
      "1226540958080\n"
     ]
    }
   ],
   "source": [
    "#id(): 인자로 전달된 개체의 주소값을 반환\n",
    "#메로리의 위치가 다르다\n",
    "#튜플은 불변객체이기 떄문에 튜플이 변경될때 마다 새로운 객체를 생성한다.\n",
    "\n",
    "test_list =(1,2,3,4)\n",
    "print(id(test_list))\n",
    "\n",
    "test_list =(3,4,5)\n",
    "print(id(test_list))\n"
   ]
  },
  {
   "cell_type": "code",
   "execution_count": null,
   "metadata": {},
   "outputs": [],
   "source": [
    "safari_tuple=('bear','koara','gorilla','squirrel')\n"
   ]
  },
  {
   "cell_type": "code",
   "execution_count": 39,
   "metadata": {},
   "outputs": [
    {
     "ename": "NameError",
     "evalue": "name 'safari_tuple' is not defined",
     "output_type": "error",
     "traceback": [
      "\u001b[1;31m---------------------------------------------------------------------------\u001b[0m",
      "\u001b[1;31mNameError\u001b[0m                                 Traceback (most recent call last)",
      "Cell \u001b[1;32mIn[39], line 3\u001b[0m\n\u001b[0;32m      1\u001b[0m \u001b[38;5;66;03m#튜플합치가\u001b[39;00m\n\u001b[0;32m      2\u001b[0m another_safari_tuple \u001b[38;5;241m=\u001b[39m (\u001b[38;5;124m'\u001b[39m\u001b[38;5;124mmonkey\u001b[39m\u001b[38;5;124m'\u001b[39m,\u001b[38;5;124m'\u001b[39m\u001b[38;5;124mtiger\u001b[39m\u001b[38;5;124m'\u001b[39m,\u001b[38;5;124m'\u001b[39m\u001b[38;5;124mwolf\u001b[39m\u001b[38;5;124m'\u001b[39m)\n\u001b[1;32m----> 3\u001b[0m \u001b[38;5;28mprint\u001b[39m(\u001b[43msafari_tuple\u001b[49m\u001b[38;5;241m+\u001b[39manother_safari_tuple)\n\u001b[0;32m      5\u001b[0m \u001b[38;5;66;03m#튜플 반복\u001b[39;00m\n\u001b[0;32m      6\u001b[0m \u001b[38;5;28mprint\u001b[39m(safari_tuple\u001b[38;5;241m*\u001b[39m\u001b[38;5;241m3\u001b[39m)\n",
      "\u001b[1;31mNameError\u001b[0m: name 'safari_tuple' is not defined"
     ]
    }
   ],
   "source": [
    "#튜플합치가\n",
    "another_safari_tuple = ('monkey','tiger','wolf')\n",
    "print(safari_tuple + another_safari_tuple)\n",
    "\n",
    "#튜플 반복\n",
    "print(safari_tuple*3)\n",
    "\n",
    "#튜플의 길이\n",
    "print(len(safari_tuple + another_safari_tuple))\n"
   ]
  }
 ],
 "metadata": {
  "kernelspec": {
   "display_name": "pylecture_env",
   "language": "python",
   "name": "python3"
  },
  "language_info": {
   "codemirror_mode": {
    "name": "ipython",
    "version": 3
   },
   "file_extension": ".py",
   "mimetype": "text/x-python",
   "name": "python",
   "nbconvert_exporter": "python",
   "pygments_lexer": "ipython3",
   "version": "3.12.7"
  }
 },
 "nbformat": 4,
 "nbformat_minor": 2
}
