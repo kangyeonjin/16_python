{
 "cells": [
  {
   "cell_type": "markdown",
   "metadata": {
    "vscode": {
     "languageId": "plaintext"
    }
   },
   "source": [
    "\n",
    "#06 set\n",
    "---\n",
    "## 06-01set개요\n",
    "### 06-01-01 set이란\n",
    "*중복된 요소를 허용하지 않으며 순서없이 요소를 저장하는 자료형\n",
    "*중복제거가 필요할때 유용하게 사용한다\n",
    "*중괄호{}를 사용해서 집합을 생성한다"
   ]
  },
  {
   "cell_type": "code",
   "execution_count": 1,
   "metadata": {},
   "outputs": [],
   "source": [
    "safari_set = {\"bear\",\"Korea\",\"Gorilla\",\"Squirrel\"}\n",
    "\n",
    "#여러가지 타입 집합 가능\n",
    "mixed_set={1, \"Bear\", (1,2,3)}"
   ]
  },
  {
   "cell_type": "markdown",
   "metadata": {},
   "source": [
    "#set()을 사용해 형변환도 가능하다"
   ]
  },
  {
   "cell_type": "code",
   "execution_count": 2,
   "metadata": {},
   "outputs": [
    {
     "name": "stdout",
     "output_type": "stream",
     "text": [
      "<class 'set'>\n"
     ]
    }
   ],
   "source": [
    "another_safari_set =  set ([\"Monkey\",\"Tiger\",\"Wolf\"])\n",
    "print(type(another_safari_set))"
   ]
  },
  {
   "cell_type": "markdown",
   "metadata": {},
   "source": [
    "### 06-01-03 set의 특징\n",
    "1.순서가 없는 자료형이며, 순서가 없으므로 인덱스를 사용한 접근이 불가"
   ]
  },
  {
   "cell_type": "code",
   "execution_count": 4,
   "metadata": {},
   "outputs": [
    {
     "name": "stdout",
     "output_type": "stream",
     "text": [
      "{'squirrel', 'gorilla', 'bear', 'pig'}\n"
     ]
    }
   ],
   "source": [
    "ohgiraffers = {'pig','squirrel','bear','gorilla'}\n",
    "\n",
    "print(ohgiraffers)"
   ]
  },
  {
   "cell_type": "markdown",
   "metadata": {},
   "source": [
    "중복을 허용하지 않으므로 동일한 값은 하나만 저장한다"
   ]
  },
  {
   "cell_type": "code",
   "execution_count": 5,
   "metadata": {},
   "outputs": [
    {
     "name": "stdout",
     "output_type": "stream",
     "text": [
      "{'squirrel', 'gorilla', 'bear', 'pig'}\n"
     ]
    }
   ],
   "source": [
    "ohgiraffers = {'pig','squirrel','bear','gorilla','pig'}\n",
    "\n",
    "print(ohgiraffers)"
   ]
  },
  {
   "cell_type": "markdown",
   "metadata": {},
   "source": [
    "가변성을 가진 자료형으로 데이터(요소)를 추가하거나 제거할수있다\n",
    "순서가 없는 자료형이기 때문에 특정 요소에 접근할수 없어 직접변경이 불가능"
   ]
  },
  {
   "cell_type": "code",
   "execution_count": 6,
   "metadata": {},
   "outputs": [
    {
     "name": "stdout",
     "output_type": "stream",
     "text": [
      "{'squirrel', 'gorilla', 'bear'}\n",
      "{'squirrel', 'gorilla', 'bear', 'mouse'}\n"
     ]
    }
   ],
   "source": [
    "ohgiraffers = {'pig','squirrel','bear','gorilla','pig'}\n",
    "\n",
    "#삭제\n",
    "ohgiraffers.remove('pig')\n",
    "print(ohgiraffers)\n",
    "\n",
    "#추가\n",
    "ohgiraffers.add('mouse')\n",
    "print(ohgiraffers)"
   ]
  },
  {
   "cell_type": "markdown",
   "metadata": {},
   "source": [
    "in 키워드를 통해 포함 여부를 반환받을수있다\n"
   ]
  },
  {
   "cell_type": "code",
   "execution_count": 7,
   "metadata": {},
   "outputs": [
    {
     "name": "stdout",
     "output_type": "stream",
     "text": [
      "True\n"
     ]
    }
   ],
   "source": [
    "ohgiraffers = {'pig','squirrel','bear','gorilla','pig'}\n",
    "\n",
    "print('bear'in ohgiraffers)"
   ]
  },
  {
   "cell_type": "markdown",
   "metadata": {},
   "source": [
    "---\n",
    "06-02 set의 메서드\n",
    "### 06-02-01 요소를 추가하는 메서드\n",
    "1. add()\n",
    "set에 새로운 단일 요소를 추가한다"
   ]
  },
  {
   "cell_type": "code",
   "execution_count": 8,
   "metadata": {},
   "outputs": [
    {
     "name": "stdout",
     "output_type": "stream",
     "text": [
      "{'bear', 'pig', 'elephant', 'squirrel', 'gorilla'}\n"
     ]
    }
   ],
   "source": [
    "ohgiraffers = {'pig','squirrel','bear','gorilla','pig'}\n",
    "ohgiraffers.add(\"elephant\")\n",
    "\n",
    "print(ohgiraffers)"
   ]
  },
  {
   "cell_type": "markdown",
   "metadata": {},
   "source": [
    "update()\n",
    "\n",
    "set에 여러 요소를 추가할수있다\n",
    "리스트, 튜플, 문자열등에서 요소를 가져와 추가할수있다"
   ]
  },
  {
   "cell_type": "code",
   "execution_count": 9,
   "metadata": {},
   "outputs": [
    {
     "name": "stdout",
     "output_type": "stream",
     "text": [
      "{'monkey', 'bear', 'pig', 'elephant', 'wolf', 'squirrel', 'gorilla'}\n"
     ]
    }
   ],
   "source": [
    "ohgiraffers.update([\"monkey\",'wolf'])\n",
    "print(ohgiraffers)"
   ]
  },
  {
   "cell_type": "markdown",
   "metadata": {},
   "source": [
    "### 06-02-02요소를 제거하는 메서드\n",
    "remove()\n",
    "set에서 특정요소를 제거하는데 사용된다\n",
    "존재하지 않는 요소를 지우려했을떼 에러가 발생한다"
   ]
  },
  {
   "cell_type": "code",
   "execution_count": 11,
   "metadata": {},
   "outputs": [
    {
     "ename": "KeyError",
     "evalue": "'elephant'",
     "output_type": "error",
     "traceback": [
      "\u001b[1;31m---------------------------------------------------------------------------\u001b[0m",
      "\u001b[1;31mKeyError\u001b[0m                                  Traceback (most recent call last)",
      "Cell \u001b[1;32mIn[11], line 1\u001b[0m\n\u001b[1;32m----> 1\u001b[0m \u001b[43mohgiraffers\u001b[49m\u001b[38;5;241;43m.\u001b[39;49m\u001b[43mremove\u001b[49m\u001b[43m(\u001b[49m\u001b[38;5;124;43m'\u001b[39;49m\u001b[38;5;124;43melephant\u001b[39;49m\u001b[38;5;124;43m'\u001b[39;49m\u001b[43m)\u001b[49m\n\u001b[0;32m      2\u001b[0m \u001b[38;5;28mprint\u001b[39m(ohgiraffers)\n",
      "\u001b[1;31mKeyError\u001b[0m: 'elephant'"
     ]
    }
   ],
   "source": [
    "ohgiraffers.remove('elephant')\n",
    "print(ohgiraffers)"
   ]
  },
  {
   "cell_type": "markdown",
   "metadata": {},
   "source": [
    "discard()\n",
    "set에서 특정요소를 제거하는데 사용되는 메서드\n",
    "remove()달리 특정요소가 집합에 존재하지 않아도 에러를 발생시키지 않음"
   ]
  },
  {
   "cell_type": "code",
   "execution_count": 12,
   "metadata": {},
   "outputs": [
    {
     "name": "stdout",
     "output_type": "stream",
     "text": [
      "{'monkey', 'bear', 'pig', 'wolf', 'squirrel', 'gorilla'}\n"
     ]
    }
   ],
   "source": [
    "print(ohgiraffers)\n",
    "ohgiraffers.discard('cat')"
   ]
  },
  {
   "cell_type": "markdown",
   "metadata": {},
   "source": [
    "pop()\n",
    "임의의 요소를 제거하고 그 값을 반환하는메서드\n",
    "set은 순서가 없기떄문에 어떤 요소가 삭제될지는 모른다"
   ]
  },
  {
   "cell_type": "code",
   "execution_count": 13,
   "metadata": {},
   "outputs": [
    {
     "name": "stdout",
     "output_type": "stream",
     "text": [
      "monkey\n"
     ]
    }
   ],
   "source": [
    "temp =  ohgiraffers.pop()\n",
    "print(temp)"
   ]
  },
  {
   "cell_type": "markdown",
   "metadata": {},
   "source": [
    "clear()\n",
    "모든요소를제거"
   ]
  },
  {
   "cell_type": "markdown",
   "metadata": {},
   "source": [
    "06-02-03 집합 연산 메서드\n",
    "\n",
    "union()\n",
    "두개이상의 집합을 합쳐서 새로운 집합을 반환하는 메서드(합집합)\n",
    "중복된 요소를제거, 모든 요소를 포함하는새로운 집합을 만든다"
   ]
  },
  {
   "cell_type": "code",
   "execution_count": 17,
   "metadata": {},
   "outputs": [
    {
     "name": "stdout",
     "output_type": "stream",
     "text": [
      "{'squirrel', 'tiger', 'gorilla', 'bear', 'pig'}\n",
      "{'squirrel', 'tiger', 'gorilla', 'bear', 'pig'}\n"
     ]
    }
   ],
   "source": [
    "java_team = {'squirrel','gorilla','tiger','bear'}\n",
    "python_team ={'pig','bear'}\n",
    "\n",
    "ohgiraffers =  java_team.union(python_team) #합집합\n",
    "print(ohgiraffers)\n",
    "\n",
    "print(java_team | python_team) #합집합"
   ]
  },
  {
   "cell_type": "markdown",
   "metadata": {},
   "source": [
    "intersection()\n",
    "두개이상의 집합에서 공통된 요소만을 포함하는 새로운 집합을 반환(교집합)"
   ]
  },
  {
   "cell_type": "code",
   "execution_count": 20,
   "metadata": {},
   "outputs": [
    {
     "ename": "NameError",
     "evalue": "name 'java_team' is not defined",
     "output_type": "error",
     "traceback": [
      "\u001b[1;31m---------------------------------------------------------------------------\u001b[0m",
      "\u001b[1;31mNameError\u001b[0m                                 Traceback (most recent call last)",
      "Cell \u001b[1;32mIn[20], line 1\u001b[0m\n\u001b[1;32m----> 1\u001b[0m \u001b[38;5;28mprint\u001b[39m(\u001b[43mjava_team\u001b[49m\u001b[38;5;241m.\u001b[39mintersection(python_team))\n\u001b[0;32m      2\u001b[0m \u001b[38;5;28mprint\u001b[39m(java_team \u001b[38;5;241m&\u001b[39m python_team)\n",
      "\u001b[1;31mNameError\u001b[0m: name 'java_team' is not defined"
     ]
    }
   ],
   "source": [
    "print(java_team.intersection(python_team))\n",
    "print(java_team & python_team)"
   ]
  },
  {
   "cell_type": "markdown",
   "metadata": {},
   "source": [
    "difference()\n",
    "첫번째 집합에는 포함되지만 두번쨰 집합에는 포함되지 않는새로운 집합을 반환(차집합)"
   ]
  },
  {
   "cell_type": "code",
   "execution_count": null,
   "metadata": {},
   "outputs": [],
   "source": [
    "print(java_team - python_team)"
   ]
  },
  {
   "cell_type": "markdown",
   "metadata": {},
   "source": [
    "symmentic_difference()\n",
    "\n",
    "합집합에서 교집합을 뺀결과\n",
    "두집합중 어느 한쪽만 포함된 요소들로 구성된 새로운 집합을 반환하는 메서드"
   ]
  },
  {
   "cell_type": "code",
   "execution_count": null,
   "metadata": {},
   "outputs": [],
   "source": [
    "print(java_team ^ python_team)\n",
    "print(java_team.symmetric_difference(python_team))"
   ]
  },
  {
   "cell_type": "markdown",
   "metadata": {},
   "source": [
    "### 06-02-04 복사메서드\n",
    "copy()\n",
    "기존집합의 얕은 복사본을 생성한다\n",
    "얕은 복사\n",
    "-> 원본집합과 복사본집합이 서로 독립적, 한쪽을 변경해도 다른쪽에 영향을 미치지 않는다 "
   ]
  },
  {
   "cell_type": "code",
   "execution_count": 21,
   "metadata": {},
   "outputs": [
    {
     "name": "stdout",
     "output_type": "stream",
     "text": [
      "{'squirrel', 'gorilla', 'tiger'}\n",
      "{'squirrel', 'gorilla', 'tiger'}\n",
      "{'squirrel', 'gorilla', 'tiger'}\n",
      "{'squirrel', 'gorilla'}\n"
     ]
    }
   ],
   "source": [
    "ohgiraffers = {'squirrel','gorilla','tiger'}\n",
    "\n",
    "zzap_ohgiraffers= ohgiraffers.copy();\n",
    "\n",
    "print(ohgiraffers)\n",
    "print(zzap_ohgiraffers)\n",
    "\n",
    "zzap_ohgiraffers.remove('tiger')\n",
    "\n",
    "print(ohgiraffers)\n",
    "print(zzap_ohgiraffers)"
   ]
  },
  {
   "cell_type": "code",
   "execution_count": null,
   "metadata": {},
   "outputs": [],
   "source": []
  }
 ],
 "metadata": {
  "kernelspec": {
   "display_name": "pylecture_env",
   "language": "python",
   "name": "python3"
  },
  "language_info": {
   "codemirror_mode": {
    "name": "ipython",
    "version": 3
   },
   "file_extension": ".py",
   "mimetype": "text/x-python",
   "name": "python",
   "nbconvert_exporter": "python",
   "pygments_lexer": "ipython3",
   "version": "3.12.7"
  }
 },
 "nbformat": 4,
 "nbformat_minor": 2
}
