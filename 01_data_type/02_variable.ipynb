{
 "cells": [
  {
   "cell_type": "markdown",
   "metadata": {},
   "source": [
    "02.기본자료형"
   ]
  },
  {
   "cell_type": "markdown",
   "metadata": {},
   "source": [
    "02-01 숫자형(numeric)\n",
    "020101 숫자 자료형의 종류\n",
    "파이썬에서는 정수, 실수, 복소수등 숫자를 표현하는 자료형을 모두 숫자 자료형이라고표현한다\n"
   ]
  },
  {
   "cell_type": "code",
   "execution_count": 2,
   "metadata": {},
   "outputs": [
    {
     "name": "stdout",
     "output_type": "stream",
     "text": [
      "<class 'int'>\n",
      "<class 'int'>\n",
      "<class 'float'>\n",
      "<class 'float'>\n",
      "<class 'complex'>\n"
     ]
    }
   ],
   "source": [
    "#int\n",
    "num1= 1\n",
    "num2 = -1\n",
    "\n",
    "print(type(num1))\n",
    "print(type(num2))\n",
    "\n",
    "#float\n",
    "num3 = 3.14\n",
    "num4 =  1.0\n",
    "\n",
    "print(type(num3))\n",
    "print(type(num4))\n",
    "\n",
    "#complex\n",
    "num5= 3+4j\n",
    "print(type(num5))"
   ]
  },
  {
   "cell_type": "markdown",
   "metadata": {},
   "source": [
    "02-01-02 숫자자료형의 연산\n",
    "숫자자료형간에 기본적인 사칙연산과 파이썬에서만 가능한 특수연산을 할수있다"
   ]
  },
  {
   "cell_type": "code",
   "execution_count": null,
   "metadata": {},
   "outputs": [],
   "source": [
    "num1 = 10\n",
    "num2 =3\n",
    "\n",
    "print(num1 +num2)\n",
    "print(num1 - num2)"
   ]
  },
  {
   "cell_type": "markdown",
   "metadata": {},
   "source": [
    "서로다른 자료형의 피연산자를 갖을 경우 정수형을 실수형으로 자동변환\n"
   ]
  },
  {
   "cell_type": "code",
   "execution_count": 3,
   "metadata": {},
   "outputs": [
    {
     "name": "stdout",
     "output_type": "stream",
     "text": [
      "10.1\n"
     ]
    }
   ],
   "source": [
    "num3 = 10\n",
    "num4 = 0.1\n",
    "num8 =15\n",
    "\n",
    "print(num3+num4)\n"
   ]
  },
  {
   "cell_type": "code",
   "execution_count": 5,
   "metadata": {},
   "outputs": [
    {
     "ename": "NameError",
     "evalue": "name 'num8' is not defined",
     "output_type": "error",
     "traceback": [
      "\u001b[1;31m---------------------------------------------------------------------------\u001b[0m",
      "\u001b[1;31mNameError\u001b[0m                                 Traceback (most recent call last)",
      "Cell \u001b[1;32mIn[5], line 6\u001b[0m\n\u001b[0;32m      3\u001b[0m num1 \u001b[38;5;241m=\u001b[39m \u001b[38;5;241m11\u001b[39m\n\u001b[0;32m      4\u001b[0m num2 \u001b[38;5;241m=\u001b[39m \u001b[38;5;241m7\u001b[39m\n\u001b[1;32m----> 6\u001b[0m \u001b[38;5;28mprint\u001b[39m(\u001b[43mnum8\u001b[49m)\n\u001b[0;32m      7\u001b[0m \u001b[38;5;28mprint\u001b[39m(num3)\n",
      "\u001b[1;31mNameError\u001b[0m: name 'num8' is not defined"
     ]
    }
   ],
   "source": [
    "#나눗셈 나머지 연산과 몫 연산\n",
    "\n",
    "num1 = 11\n",
    "num2 = 7\n",
    "\n",
    "print(num8)\n",
    "print(num3)"
   ]
  },
  {
   "cell_type": "code",
   "execution_count": 6,
   "metadata": {},
   "outputs": [
    {
     "name": "stdout",
     "output_type": "stream",
     "text": [
      "1.5714285714285714\n",
      "4\n",
      "1\n"
     ]
    }
   ],
   "source": [
    "num1 = 11\n",
    "num2 = 7\n",
    "\n",
    "print(num1/num2)\n",
    "\n",
    "print(num1 % num2)\n",
    "\n",
    "print(num1 //num2)"
   ]
  },
  {
   "cell_type": "code",
   "execution_count": 7,
   "metadata": {},
   "outputs": [
    {
     "name": "stdout",
     "output_type": "stream",
     "text": [
      "729\n"
     ]
    }
   ],
   "source": [
    "#제곱연산\n",
    "\n",
    "base = 9\n",
    "exponent = 3\n",
    "\n",
    "print(base ** exponent)"
   ]
  },
  {
   "cell_type": "code",
   "execution_count": 8,
   "metadata": {},
   "outputs": [
    {
     "data": {
      "text/plain": [
       "4"
      ]
     },
     "execution_count": 8,
     "metadata": {},
     "output_type": "execute_result"
    }
   ],
   "source": [
    "#값과 연산자 입력만으로 연산 수행가능\n",
    "2+2"
   ]
  },
  {
   "cell_type": "markdown",
   "metadata": {},
   "source": []
  },
  {
   "cell_type": "code",
   "execution_count": null,
   "metadata": {},
   "outputs": [],
   "source": [
    "---\n",
    "## 02-02. 논리형(boolean)\n",
    "\n",
    "### 02-02-01 논리 자료형\n",
    "*true 또는 false값을 가지는 자료형m\n",
    "*논리자료형은 문자열이 아니므로 따옴표(\",\")로 감싸서는 안되며, 첫글자를 반드시 대문자로 해야한다\n",
    "*또한 논리 자료형 자체로 사용하기도 <br>하지만 비교연산, 논리연산의 결과로 논리자료형이 반환된다."
   ]
  },
  {
   "cell_type": "code",
   "execution_count": 10,
   "metadata": {},
   "outputs": [
    {
     "name": "stdout",
     "output_type": "stream",
     "text": [
      "<class 'str'>\n",
      "<class 'bool'>\n"
     ]
    },
    {
     "data": {
      "text/plain": [
       "'True'"
      ]
     },
     "execution_count": 10,
     "metadata": {},
     "output_type": "execute_result"
    }
   ],
   "source": [
    "bool1 = \"True\"\n",
    "bool2 = False\n",
    "\n",
    "print(type(bool1))\n",
    "print(type(bool2))\n",
    "\n",
    "\n",
    "bool1"
   ]
  },
  {
   "cell_type": "markdown",
   "metadata": {},
   "source": [
    "* 비교 연산\n",
    "- 비교 연산 : ==, !=, >, <, >=, <=\n",
    "    - == : 좌항과 우항의 값이 동일한지 비교하여, 같으면 True, 같지 않으면 False를 반환한다.\n",
    "    - != : 좌항과 우항의 값이 같지 않은지 비교하여, 서로 다르면 True, 같으면 False를 반환한다.\n",
    "    - \\>, < : 일반적으로 수학에서 사용하는 부등호와 같이 좌항과 우항의 크고 작음을 비교한다.\n",
    "    - \\>=, <= : 같거나 크다 또는 같거나 작다를 비교한다."
   ]
  },
  {
   "cell_type": "code",
   "execution_count": 11,
   "metadata": {},
   "outputs": [
    {
     "name": "stdout",
     "output_type": "stream",
     "text": [
      "False\n",
      "True\n",
      "True\n",
      "False\n",
      "True\n"
     ]
    }
   ],
   "source": [
    "print(1 == 3)\n",
    "print('ohgiraffers' != 'Ohgiraffers')\n",
    "print(100>99)\n",
    "print(100<99)\n",
    "print( 0<= 1)"
   ]
  },
  {
   "cell_type": "code",
   "execution_count": 14,
   "metadata": {},
   "outputs": [
    {
     "name": "stdout",
     "output_type": "stream",
     "text": [
      "True\n",
      "False\n",
      "True\n",
      "True\n",
      "False\n"
     ]
    }
   ],
   "source": [
    "#논리연산\n",
    "\n",
    "#and\n",
    "print(1 != 3 and 100 > 99 and True)\n",
    "print(1 != 3 and 100 > 99 and 100<99)\n",
    "\n",
    "#or\n",
    "print(1 == 3 or 100>99 or True)\n",
    "\n",
    "#not\n",
    "#불리언값을 반전시킨다\n",
    "print(not 'ohgiraffers' == 'Ohgiraffers')\n",
    "print(not True)"
   ]
  },
  {
   "cell_type": "markdown",
   "metadata": {},
   "source": [
    "---\n",
    "#문자형(string)\n",
    "## 02-03-01 문자형선언\n",
    "*쌍따옴표(\"\") 또는 홑따옴표('')를 사용하여 문자형 리터럴을 선언할수있다\n"
   ]
  },
  {
   "cell_type": "code",
   "execution_count": null,
   "metadata": {},
   "outputs": [],
   "source": []
  },
  {
   "cell_type": "code",
   "execution_count": 15,
   "metadata": {},
   "outputs": [],
   "source": [
    "my_name = 'yeonjin'\n",
    "my_name2 = \"yeonjin\""
   ]
  },
  {
   "cell_type": "code",
   "execution_count": 16,
   "metadata": {},
   "outputs": [
    {
     "name": "stdout",
     "output_type": "stream",
     "text": [
      "세상에서 제일 긴게 뭘까요 기차?\n"
     ]
    }
   ],
   "source": [
    "print(\"\"\"세상에서 제일 긴게 뭘까요 기차?\"\"\")"
   ]
  },
  {
   "cell_type": "markdown",
   "metadata": {},
   "source": [
    "02-03-02 문자열연산"
   ]
  },
  {
   "cell_type": "code",
   "execution_count": 19,
   "metadata": {},
   "outputs": [
    {
     "name": "stdout",
     "output_type": "stream",
     "text": [
      "아버지가방에 들어가신다\n",
      "아버지가 방에 들어가신다\n"
     ]
    }
   ],
   "source": [
    "#문자열 이어붙이기\n",
    "str1 = \"아버지가\"\n",
    "str2 = \"방에 들어가신다\"\n",
    "\n",
    "print(str1 +str2)\n",
    "print(str1+' '+str2)"
   ]
  },
  {
   "cell_type": "code",
   "execution_count": 23,
   "metadata": {},
   "outputs": [
    {
     "name": "stdout",
     "output_type": "stream",
     "text": [
      "900살입니다\n",
      "<class 'int'>\n"
     ]
    }
   ],
   "source": [
    "#다른 자료형과 연산이 불가(자동형변환이 불가)\n",
    "\n",
    "#print(900+ \"살\"+\"입니다\")\n",
    "\n",
    "print(str(900)+\"살\"+\"입니다\")\n",
    "\n",
    "print(type(900))"
   ]
  },
  {
   "cell_type": "code",
   "execution_count": 26,
   "metadata": {},
   "outputs": [
    {
     "name": "stdout",
     "output_type": "stream",
     "text": [
      "나는 python을 잘할수있다 \n",
      "나는 python을 잘할수있다 \n",
      "나는 python을 잘할수있다 \n",
      "\n"
     ]
    }
   ],
   "source": [
    "#문자열 반복하기\n",
    "\n",
    "subject = 'python'\n",
    "print((\"나는 \"+subject+\"을 잘할수있다 \\n\" )*3)"
   ]
  },
  {
   "cell_type": "markdown",
   "metadata": {},
   "source": [
    "###02-03-03 문자형의 메서드\n"
   ]
  },
  {
   "cell_type": "code",
   "execution_count": 27,
   "metadata": {},
   "outputs": [
    {
     "name": "stdout",
     "output_type": "stream",
     "text": [
      "2024-12-16\n"
     ]
    }
   ],
   "source": [
    "#replace()\n",
    "#문자를 찾아서 바꿀때 사용함\n",
    "enroll_date = '2024/12/16'\n",
    "\n",
    "rep_enroll_date =  enroll_date.replace(\"/\",\"-\")\n",
    "\n",
    "print(rep_enroll_date)\n"
   ]
  },
  {
   "cell_type": "code",
   "execution_count": 32,
   "metadata": {},
   "outputs": [
    {
     "name": "stdout",
     "output_type": "stream",
     "text": [
      "oh  giraffers\n",
      "h  giraffers\n",
      "hgiraffer\n",
      "hgiraffers\n",
      "ohgiraffer\n"
     ]
    }
   ],
   "source": [
    "#strip\n",
    "#문자열을 제거할떄 사용한다\n",
    "#기본적으로는 공백을 지워준다\n",
    "origin = 'ohgiraffers'\n",
    "with_white_space = '  oh  giraffers   '\n",
    "\n",
    "#인자생략 =>공백제거\n",
    "print(with_white_space.strip())\n",
    "\n",
    "#'     o'까지 제거\n",
    "print(with_white_space.strip('    o'))\n",
    "\n",
    "\n",
    "print(origin.strip('os'))\n",
    "\n",
    "#lstrip() - 왼쪽만 제거\n",
    "print(origin.lstrip('os'))\n",
    "#rstrip()- 오른쪽만 제거\n",
    "print(origin.rstrip('os'))"
   ]
  },
  {
   "cell_type": "code",
   "execution_count": 35,
   "metadata": {},
   "outputs": [
    {
     "name": "stdout",
     "output_type": "stream",
     "text": [
      "HELLO WORLD\n",
      "hello world\n",
      "Hello world\n",
      "Hello World\n",
      "Hello World\n"
     ]
    }
   ],
   "source": [
    "#대소문자 관련 메서드\n",
    "origin_str = 'hELLO wORLD'\n",
    "\n",
    "print(origin_str.upper())\n",
    "print(origin_str.lower())\n",
    "print(origin_str.capitalize())\n",
    "print(origin_str.swapcase())\n",
    "print(origin_str.title())"
   ]
  },
  {
   "cell_type": "code",
   "execution_count": null,
   "metadata": {},
   "outputs": [],
   "source": [
    "### 02-03-04 문자형 포멧팅\n",
    "1.%포멧팅 :변수 포멧을 사용해 문자열에  변수값을 삽입한다(오래된방식)\n",
    "-변수 포멧종류\n",
    "-%s :문자열\n",
    "-%c :문자\n",
    "-%t\n",
    "-%d :정수\n",
    "-%f :실수"
   ]
  },
  {
   "cell_type": "code",
   "execution_count": 36,
   "metadata": {},
   "outputs": [
    {
     "name": "stdout",
     "output_type": "stream",
     "text": [
      "x is 10\n",
      "y is code\n"
     ]
    }
   ],
   "source": [
    "x=10\n",
    "print('x is %d' %x)\n",
    "\n",
    "y= 'code'\n",
    "print('y is %s' %y)"
   ]
  },
  {
   "cell_type": "markdown",
   "metadata": {},
   "source": [
    "2.format(): 타입명시 없이 함수를이용해 문자열에 변수값을 삽입한다"
   ]
  },
  {
   "cell_type": "code",
   "execution_count": 40,
   "metadata": {},
   "outputs": [
    {
     "name": "stdout",
     "output_type": "stream",
     "text": [
      "10\n",
      "code\n",
      "x is 10\n",
      "x is 10 y is code\n"
     ]
    }
   ],
   "source": [
    "x=10\n",
    "y='code'\n",
    "\n",
    "x,y = 10, 'code'\n",
    "\n",
    "print(x)\n",
    "print(y)\n",
    "\n",
    "print(\"x is {0}\". format(x))\n",
    "print('x is {0} y is {1}'.format(x,y))"
   ]
  },
  {
   "cell_type": "markdown",
   "metadata": {},
   "source": [
    "3.f-strint :파이썬 3.6이상부터 사용가능하며, 문자열 앞에 f를 붙여 사용한다"
   ]
  },
  {
   "cell_type": "code",
   "execution_count": 41,
   "metadata": {},
   "outputs": [
    {
     "name": "stdout",
     "output_type": "stream",
     "text": [
      "안녕하세요 곰 강사입니다.\n"
     ]
    }
   ],
   "source": [
    "teacher_name = '곰'\n",
    "print(f\"안녕하세요 {teacher_name} 강사입니다.\")"
   ]
  },
  {
   "cell_type": "markdown",
   "metadata": {},
   "source": [
    "---\n",
    "### 02-04 주석\n",
    "###02-04-01 주석의 종류"
   ]
  },
  {
   "cell_type": "code",
   "execution_count": null,
   "metadata": {},
   "outputs": [],
   "source": [
    "#한줄 주석\n",
    "#이렇게 그냥 작성\n",
    "#주석은 해석하지 않기 때문에 에러가 발생하지 않는다\n"
   ]
  },
  {
   "cell_type": "code",
   "execution_count": 43,
   "metadata": {},
   "outputs": [
    {
     "name": "stdout",
     "output_type": "stream",
     "text": [
      "여기만 출력된다\n"
     ]
    }
   ],
   "source": [
    "#여러줄 주석\n",
    "'''삼중 따옴표를 사용하면 구간에 걸친 주석이 적용된다\n",
    "print('출력되지 않는다')\n",
    "'''\n",
    "print('여기만 출력된다')"
   ]
  },
  {
   "cell_type": "markdown",
   "metadata": {},
   "source": [
    "---\n",
    "## 02-05 형변환\n",
    "### 02-05-01 형변환인란\n",
    "서로다른 자료형간의 연산을 위해 다른 자료형으로 타입을 변환하는것\n"
   ]
  },
  {
   "cell_type": "code",
   "execution_count": null,
   "metadata": {},
   "outputs": [],
   "source": [
    "#암시적 형 변환\n",
    "print(True+3)\n",
    "print(3+5.0)\n",
    "#print(3+'5')"
   ]
  },
  {
   "cell_type": "code",
   "execution_count": 47,
   "metadata": {},
   "outputs": [
    {
     "name": "stdout",
     "output_type": "stream",
     "text": [
      "3\n",
      "<class 'str'>\n",
      "7\n",
      "5.5\n"
     ]
    }
   ],
   "source": [
    "#명시적 형 변환\n",
    "#str, float => int(단, 형식에 맞는 문자열만 정수로 변환가능)\n",
    "\n",
    "print('3')\n",
    "print(type('3'))\n",
    "print(int('3')+4)\n",
    "\n",
    "#정수형이 아니면 연산이안되니까 실수형으로 바꿔줌\n",
    "print(float('3.5')+2)  #문자열의 형태가 정수가 아니라 실수이므로 형변환 불가"
   ]
  },
  {
   "cell_type": "code",
   "execution_count": 48,
   "metadata": {},
   "outputs": [
    {
     "name": "stdout",
     "output_type": "stream",
     "text": [
      "3.0\n"
     ]
    }
   ],
   "source": [
    "#str, int =>float(단, 형식에 맞는  문자열만 실수로 변환가능)\n",
    "print(float('3'))"
   ]
  },
  {
   "cell_type": "code",
   "execution_count": 49,
   "metadata": {},
   "outputs": [
    {
     "name": "stdout",
     "output_type": "stream",
     "text": [
      "1\n",
      "1.0\n",
      "{1, 2, 3}\n"
     ]
    }
   ],
   "source": [
    "#int, float, list, tuple, dict, set => str(문자열로는 전부다 변환이 가능하다)\n",
    "print(str(1))\n",
    "print(str(1.0))\n",
    "print({1,2,3})"
   ]
  },
  {
   "cell_type": "code",
   "execution_count": null,
   "metadata": {},
   "outputs": [],
   "source": []
  }
 ],
 "metadata": {
  "kernelspec": {
   "display_name": "pylecture_env",
   "language": "python",
   "name": "python3"
  },
  "language_info": {
   "codemirror_mode": {
    "name": "ipython",
    "version": 3
   },
   "file_extension": ".py",
   "mimetype": "text/x-python",
   "name": "python",
   "nbconvert_exporter": "python",
   "pygments_lexer": "ipython3",
   "version": "3.12.7"
  }
 },
 "nbformat": 4,
 "nbformat_minor": 2
}
