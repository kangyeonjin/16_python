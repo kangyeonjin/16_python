{
 "cells": [
  {
   "cell_type": "markdown",
   "metadata": {},
   "source": [
    "01.변수\n",
    "---"
   ]
  },
  {
   "cell_type": "markdown",
   "metadata": {},
   "source": [
    "01-01.변수 개요"
   ]
  },
  {
   "cell_type": "markdown",
   "metadata": {},
   "source": [
    "###01-01-01 변수란\n",
    "프로그램에서 다루는 어떤 자료(정보)를 담는 공간이다\n",
    "### 01-01-02 변수생성\n",
    "변수생성은 대입연산자를 기준으로 좌항에는 변수이름, 우항에는 변수에 담을 자료를 작성한다\n",
    "변수의 생성과 변수의 값 변경 모두 같은 방법으로 작성한다\n",
    "파이썬은 변수 공간의 자료형 선언이 없다\n",
    "\n",
    "ex)[변수명] = [데이터]"
   ]
  },
  {
   "cell_type": "markdown",
   "metadata": {},
   "source": [
    "##01-02 대입연산자\n",
    "### 01-02-01 대입연산자 \"=\"\n",
    "대입 연산자를 기준으로 우항에 있는 값을 좌항의 변수공간에 대입하는 의미를 가진다\n",
    "대입연산자의 우항에도 변수명이 올수있는데 이때 변수명은 공간이 아닌 값으로 인식한다.\n"
   ]
  },
  {
   "cell_type": "code",
   "execution_count": 4,
   "metadata": {},
   "outputs": [
    {
     "name": "stdout",
     "output_type": "stream",
     "text": [
      "ohgiraffers\n"
     ]
    }
   ],
   "source": [
    "team_name=\"ohgiraffers\"\n",
    "my_team = team_name\n",
    "\n",
    "my_team"
   ]
  },
  {
   "cell_type": "markdown",
   "metadata": {},
   "source": [
    "##01-03. 변수이름 명명규칙\n",
    "### 01-03-01 암묵적 규칙ㅡ\n",
    "1.변수명은 변수에 담긴 값이 무엇인지 직관적으로 알수있게 적는다\n"
   ]
  },
  {
   "cell_type": "code",
   "execution_count": 8,
   "metadata": {},
   "outputs": [
    {
     "data": {
      "text/plain": [
       "165"
      ]
     },
     "execution_count": 8,
     "metadata": {},
     "output_type": "execute_result"
    }
   ],
   "source": [
    "#키(cm)정보를 변수에 담기\n",
    "\n",
    "tall = 165\n",
    "\n",
    "tall\n"
   ]
  },
  {
   "cell_type": "markdown",
   "metadata": {},
   "source": [
    "2.변수명은 스네이크 케이스(소문자+언더바)로 작성하며, 대소문자를 구별한다\n"
   ]
  },
  {
   "cell_type": "code",
   "execution_count": 11,
   "metadata": {},
   "outputs": [
    {
     "data": {
      "text/plain": [
       "'ohgiraffers'"
      ]
     },
     "execution_count": 11,
     "metadata": {},
     "output_type": "execute_result"
    }
   ],
   "source": [
    "team_name = \"오지라퍼스\"\n",
    "Team_name = \"ohgiraffers\"\n",
    "\n",
    "team_name\n",
    "Team_name\n"
   ]
  },
  {
   "cell_type": "markdown",
   "metadata": {},
   "source": [
    "3.한글 변수명을 지정할수있다\n",
    "<br> 하지만 인코딩문제를 야기할수있기때문에 사용을 지양하는것이 좋다\n"
   ]
  },
  {
   "cell_type": "code",
   "execution_count": 12,
   "metadata": {},
   "outputs": [
    {
     "name": "stdout",
     "output_type": "stream",
     "text": [
      "오지라퍼스\n"
     ]
    }
   ],
   "source": [
    "우리팀 = \"오지라퍼스\"\n",
    "print(우리팀)"
   ]
  },
  {
   "cell_type": "markdown",
   "metadata": {},
   "source": [
    "### 문법오류를 야기하는 규칙\n",
    "<br>\n",
    "1. 영문과 숫자를 혼합해 작성할수있다. 하지만 숫자를 가장앞에 작성할수는 없다\n",
    "-숫자로면 구성하는것도 불가능 "
   ]
  },
  {
   "cell_type": "code",
   "execution_count": 15,
   "metadata": {},
   "outputs": [
    {
     "name": "stdout",
     "output_type": "stream",
     "text": [
      "ohgiraffers\n"
     ]
    }
   ],
   "source": [
    "team_1name = 'ohgiraffers'\n",
    "\n",
    "#숫자가 변수명 가장 앞에 위치할수없다\n",
    "#1_team_name = 'ohgiraffers'\n",
    "\n",
    "#숫자로만 구성하는것도 불가능\n",
    "#20240509 = 'ohgiraffers'\n",
    "\n",
    "print(team_1name)"
   ]
  },
  {
   "cell_type": "markdown",
   "metadata": {},
   "source": [
    "2.언더바를 제외한 특수문자를 사용이 북가하다\n"
   ]
  },
  {
   "cell_type": "code",
   "execution_count": 16,
   "metadata": {},
   "outputs": [
    {
     "ename": "SyntaxError",
     "evalue": "cannot assign to expression here. Maybe you meant '==' instead of '='? (1244805889.py, line 1)",
     "output_type": "error",
     "traceback": [
      "\u001b[1;36m  Cell \u001b[1;32mIn[16], line 1\u001b[1;36m\u001b[0m\n\u001b[1;33m    team_@_name = \"ohgirafferse\"\u001b[0m\n\u001b[1;37m    ^\u001b[0m\n\u001b[1;31mSyntaxError\u001b[0m\u001b[1;31m:\u001b[0m cannot assign to expression here. Maybe you meant '==' instead of '='?\n"
     ]
    }
   ],
   "source": [
    "team_@_name = \"ohgirafferse\"\n",
    "\n",
    "print(team_@_name)"
   ]
  },
  {
   "cell_type": "markdown",
   "metadata": {},
   "source": [
    "3.파이썬 예약어(if, else, for, while...)을 사용할수없다"
   ]
  },
  {
   "cell_type": "code",
   "execution_count": null,
   "metadata": {},
   "outputs": [],
   "source": []
  }
 ],
 "metadata": {
  "kernelspec": {
   "display_name": "pylecture_env",
   "language": "python",
   "name": "python3"
  },
  "language_info": {
   "codemirror_mode": {
    "name": "ipython",
    "version": 3
   },
   "file_extension": ".py",
   "mimetype": "text/x-python",
   "name": "python",
   "nbconvert_exporter": "python",
   "pygments_lexer": "ipython3",
   "version": "3.12.7"
  }
 },
 "nbformat": 4,
 "nbformat_minor": 2
}
