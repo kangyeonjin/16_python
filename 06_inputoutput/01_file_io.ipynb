{
 "cells": [
  {
   "cell_type": "markdown",
   "metadata": {},
   "source": [
    "# 01. 파일입출력\n",
    "---\n",
    "## 01-01. 파일접근\n",
    "### 01-01-01 파일열기 open()\n",
    "\n",
    "*인자로 경로를 포함한 파일명과 파일 열기 모드를 알파벳으로 전달하면서 호출하면, 파일객체를 변환하는함수<br>\n",
    "*첫번째 매개변수 : 파일명(경로포함)<br>\n",
    "*두번쨰 매개변수 : 파일열기모드를 설정<br>\n",
    "*r :읽기모드\n",
    "*w :쓰기모드 (덮어쓰기), 기존 파일이 없으면 새로운 파일이 생성된다\n",
    "*a :수정모드 (파일 끝에 내용 추가)"
   ]
  },
  {
   "cell_type": "code",
   "execution_count": null,
   "metadata": {},
   "outputs": [],
   "source": [
    "f = open('song.txt', 'r')\n"
   ]
  },
  {
   "cell_type": "markdown",
   "metadata": {},
   "source": [
    "### 01-01-02 파일닫기 :close()\n",
    "* 열려있는 파일객체를 닫아주는 역할"
   ]
  },
  {
   "cell_type": "code",
   "execution_count": null,
   "metadata": {},
   "outputs": [],
   "source": [
    "f.close()"
   ]
  },
  {
   "cell_type": "markdown",
   "metadata": {},
   "source": [
    "### 01-02 파일쓰기\n",
    "### 01-02-01 write()\n",
    " * open한 파일 객체에 대해 write()메서드를 사용하면, 인자로 넘겨준 하나의 문자열을 파일에 작성한다"
   ]
  },
  {
   "cell_type": "code",
   "execution_count": 3,
   "metadata": {},
   "outputs": [],
   "source": [
    "f = open('song_test.txt', 'w')\n",
    "\n",
    "f.write('계절이 지나가는 하늘에는')\n",
    "f.close()"
   ]
  },
  {
   "cell_type": "markdown",
   "metadata": {},
   "source": [
    "### 01-02-02 writelines()\n",
    "*인자로 넘겨준 리스트의요소를 하나하나 파일에 작성한다"
   ]
  },
  {
   "cell_type": "code",
   "execution_count": 4,
   "metadata": {},
   "outputs": [],
   "source": [
    "data = [\n",
    "'계절이 지나가는 하늘에는\\n',\n",
    "'가을로 가득 차 있습니다.\\n',\n",
    "'나는 아무 걱정도 없이\\n',\n",
    "'가을 속의 별들을 다 헤일 듯합니다.\\n'\n",
    "]\n",
    "\n",
    "f = open('song_test.txt', 'w')\n",
    "\n",
    "f.writelines(data)\n",
    "\n",
    "f.close()"
   ]
  },
  {
   "cell_type": "markdown",
   "metadata": {},
   "source": [
    "## 01-03 파일읽기\n",
    "### 01-03-01 파일전체 읽기 read()\n",
    "*파일 전체 내용을 읽어와 하나의 문자열로 반환한다"
   ]
  },
  {
   "cell_type": "code",
   "execution_count": 5,
   "metadata": {},
   "outputs": [
    {
     "name": "stdout",
     "output_type": "stream",
     "text": [
      "계절이 지나가는 하늘에는\n",
      "가을로 가득 차 있습니다.\n",
      "\n",
      "나는 아무 걱정도 없이\n",
      "가을 속의 별들을 다 헤일 듯합니다.\n",
      "\n",
      "가슴속에 하나둘 새겨지는 별을\n",
      "이제 다 못 헤는 것은\n",
      "쉬이 아침이 오는 까닭이요,\n",
      "내일 밤이 남은 까닭이요,\n",
      "아직 나의 청춘이 다하지 않은 까닭입니다.\n",
      "\n",
      "별 하나에 추억과\n",
      "별 하나에 사랑과\n",
      "별 하나에 쓸쓸함과\n",
      "별 하나에 동경과\n",
      "별 하나에 시와\n",
      "별 하나에 어머니, 어머니\n"
     ]
    }
   ],
   "source": [
    "f = open('song.txt','r')\n",
    "data = f.read()\n",
    "\n",
    "print(data)\n",
    "f.close()"
   ]
  },
  {
   "cell_type": "markdown",
   "metadata": {},
   "source": [
    "### 01-03-02 파일에서 한줄만 읽기 :readline()\n"
   ]
  },
  {
   "cell_type": "code",
   "execution_count": 9,
   "metadata": {},
   "outputs": [
    {
     "name": "stdout",
     "output_type": "stream",
     "text": [
      "계절이 지나가는 하늘에는\n",
      "\n",
      "가을로 가득 차 있습니다.\n",
      "\n",
      "\n",
      "\n",
      "나는 아무 걱정도 없이\n",
      "\n",
      "가을 속의 별들을 다 헤일 듯합니다.\n",
      "\n",
      "\n",
      "\n",
      "가슴속에 하나둘 새겨지는 별을\n",
      "\n",
      "이제 다 못 헤는 것은\n",
      "\n",
      "쉬이 아침이 오는 까닭이요,\n",
      "\n",
      "내일 밤이 남은 까닭이요,\n",
      "\n",
      "아직 나의 청춘이 다하지 않은 까닭입니다.\n",
      "\n",
      "\n",
      "\n",
      "별 하나에 추억과\n",
      "\n",
      "별 하나에 사랑과\n",
      "\n",
      "별 하나에 쓸쓸함과\n",
      "\n",
      "별 하나에 동경과\n",
      "\n",
      "별 하나에 시와\n",
      "\n",
      "별 하나에 어머니, 어머니\n"
     ]
    }
   ],
   "source": [
    "f = open('song.txt','r')\n",
    "\n",
    "while True:\n",
    "    data = f.readline()\n",
    "\n",
    "    if not data:\n",
    "        break\n",
    "    print(data)\n",
    "    \n",
    "f.close()"
   ]
  },
  {
   "cell_type": "code",
   "execution_count": 10,
   "metadata": {},
   "outputs": [
    {
     "name": "stdout",
     "output_type": "stream",
     "text": [
      "['계절이 지나가는 하늘에는\\n', '가을로 가득 차 있습니다.\\n', '\\n', '나는 아무 걱정도 없이\\n', '가을 속의 별들을 다 헤일 듯합니다.\\n', '\\n', '가슴속에 하나둘 새겨지는 별을\\n', '이제 다 못 헤는 것은\\n', '쉬이 아침이 오는 까닭이요,\\n', '내일 밤이 남은 까닭이요,\\n', '아직 나의 청춘이 다하지 않은 까닭입니다.\\n', '\\n', '별 하나에 추억과\\n', '별 하나에 사랑과\\n', '별 하나에 쓸쓸함과\\n', '별 하나에 동경과\\n', '별 하나에 시와\\n', '별 하나에 어머니, 어머니']\n"
     ]
    }
   ],
   "source": [
    "#파일전체를 줄마다 (리스트 형태로 )가져오기\n",
    "f = open('song.txt','r')\n",
    "\n",
    "data = f.readlines()\n",
    "\n",
    "print(data)\n",
    "    \n",
    "f.close()"
   ]
  },
  {
   "cell_type": "code",
   "execution_count": 11,
   "metadata": {},
   "outputs": [
    {
     "name": "stdout",
     "output_type": "stream",
     "text": [
      "계절이 지나가는 하늘에는\n",
      "\n"
     ]
    }
   ],
   "source": [
    "f = open('song.txt','r')\n",
    "\n",
    "data = f.readline()\n",
    "\n",
    "print(data)\n",
    "    \n",
    "f.close()"
   ]
  },
  {
   "cell_type": "markdown",
   "metadata": {},
   "source": [
    "---\n",
    "## 01-04 파일내용 추가하기\n",
    "### 01-04-01 파일내용추가모드\n",
    "* 추가모드 'a'를 사용하여 파일을 열어 내용을 추가할수있다<br>\n",
    "* 쓰기모드 'w'"
   ]
  },
  {
   "cell_type": "code",
   "execution_count": 13,
   "metadata": {},
   "outputs": [],
   "source": [
    "#내용쓰기\n",
    "\n",
    "f = open('song.txt', 'a')\n",
    "f.write('\\n별 하나에')\n",
    "f.close()\n",
    "\n",
    "\n"
   ]
  },
  {
   "cell_type": "markdown",
   "metadata": {},
   "source": [
    "---\n",
    "## 01-05 with 키워드\n",
    "* 파일을 열어서 사용하고 사용이 종료되면 닫는 역할을 한다<br>\n",
    "* with문을 사용하면 with블록을 벗어나는 순간, 객체가 닫히게 된다\n"
   ]
  },
  {
   "cell_type": "code",
   "execution_count": null,
   "metadata": {},
   "outputs": [],
   "source": [
    "with open(\"song_test.txt\",'w') as f:\n",
    "    f.write(\"life is too short, you need python\")"
   ]
  },
  {
   "cell_type": "markdown",
   "metadata": {},
   "source": []
  },
  {
   "cell_type": "code",
   "execution_count": null,
   "metadata": {},
   "outputs": [],
   "source": []
  }
 ],
 "metadata": {
  "kernelspec": {
   "display_name": "pylecture_env",
   "language": "python",
   "name": "python3"
  },
  "language_info": {
   "codemirror_mode": {
    "name": "ipython",
    "version": 3
   },
   "file_extension": ".py",
   "mimetype": "text/x-python",
   "name": "python",
   "nbconvert_exporter": "python",
   "pygments_lexer": "ipython3",
   "version": "3.12.7"
  }
 },
 "nbformat": 4,
 "nbformat_minor": 2
}
