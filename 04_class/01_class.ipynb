{
 "cells": [
  {
   "cell_type": "markdown",
   "metadata": {},
   "source": [
    "#01.클래스(class)\n",
    "---\n",
    "## 01-01 클래스 개요\n",
    "### 01-01-01 클래스?\n",
    "\n",
    "객체지향을 지원하는 중요한개념\n",
    "추상화된 데이터와 함수(메서드)를 하나의 단위로 묶어 만들수잇다\n",
    "클래스를 사용해 인스턴스를 생성하여 객체단위로 사용할수있다"
   ]
  },
  {
   "cell_type": "markdown",
   "metadata": {},
   "source": [
    "01-01-02 클래스 표현식\n",
    "class키워드와 콜론을 이용해 클래스를 정의한다\n",
    "클래스 정의시에도 **반드시** 클래스의 내용이 될 블록을 들여쓰기한다"
   ]
  },
  {
   "cell_type": "code",
   "execution_count": 17,
   "metadata": {},
   "outputs": [],
   "source": [
    "class Person:\n",
    "    national = 'korea'\n",
    "\n",
    "    def greeting(self):\n",
    "        return 'Hello. This is Python'\n",
    "    \n"
   ]
  },
  {
   "cell_type": "code",
   "execution_count": 8,
   "metadata": {},
   "outputs": [
    {
     "name": "stdout",
     "output_type": "stream",
     "text": [
      "korea\n",
      "korean\n"
     ]
    }
   ],
   "source": [
    "class Person:\n",
    "    national = 'korea'\n",
    "    language = 'korean'\n",
    "    \n",
    "print(Person.national)\n",
    "print(Person.language)"
   ]
  },
  {
   "cell_type": "markdown",
   "metadata": {},
   "source": [
    "###01-02-03 메서드(method)\n",
    "*클래스 내부에 정의된함수로, 인스턴스의 데이터를 조작하거나 동작을 정의한다\n",
    "*메소드 호출시 객체의 주소값이 첫번째 인자로 넘어오기 떄문에,\n",
    "객체를 통ㅎ산 접근시 호출되는 메소드의 첫번쨰 인자는 항상 self이어야한다"
   ]
  },
  {
   "cell_type": "code",
   "execution_count": 25,
   "metadata": {},
   "outputs": [],
   "source": [
    "class Person:\n",
    "    national = 'korea'\n",
    "    language = 'korean'\n",
    "    \n",
    "    def greeting(self):\n",
    "        return '안녕하세요'\n",
    "    \n",
    "    def information(self):\n",
    "        return f\"I'm from {self.national} and I use {self.language}\"\n",
    "    \n",
    "    def favorite(self, color):\n",
    "        return f\"I love {color}\""
   ]
  },
  {
   "cell_type": "code",
   "execution_count": 26,
   "metadata": {},
   "outputs": [
    {
     "name": "stdout",
     "output_type": "stream",
     "text": [
      "안녕하세요\n",
      "I'm from korea and I use korean\n",
      "I love blue\n"
     ]
    }
   ],
   "source": [
    "#객체 생성\n",
    "person_instance_1 = Person()\n",
    "person_instance_2 = Person()\n",
    "\n",
    "print(person_instance_1.greeting())\n",
    "print(person_instance_1.information())\n",
    "print(person_instance_1.favorite('blue'))"
   ]
  },
  {
   "cell_type": "markdown",
   "metadata": {},
   "source": [
    "### 01-02-03 생성자\n",
    "*init메서드는 객체가 생성될때 자동으로 호출되는 메서드(생성자)\n",
    "*매개변수를 전달해 인스턴스의 속성을 초기화 할수있다"
   ]
  },
  {
   "cell_type": "code",
   "execution_count": 22,
   "metadata": {},
   "outputs": [],
   "source": [
    "class Person:\n",
    "    national = 'korea'\n",
    "    language = 'korean'\n",
    "    \n",
    "    def __init__(self, name, age):\n",
    "        self.name = name\n",
    "        self.age = age\n",
    "    \n",
    "    def greeting(self):\n",
    "        return '안녕하세요'\n",
    "    \n",
    "    def information(self):\n",
    "        return f\"I'm from {self.national} and I use {self.language}.My name is {self.name}. My age is {self.age}\"\n",
    "    \n",
    "    def favorite(self, color):\n",
    "        return f\"I love {color}\""
   ]
  },
  {
   "cell_type": "code",
   "execution_count": 23,
   "metadata": {},
   "outputs": [
    {
     "name": "stdout",
     "output_type": "stream",
     "text": [
      "I'm from korea and I use korean.My name is Bear. My age is 20\n",
      "I'm from korea and I use korean.My name is pig. My age is 25\n"
     ]
    }
   ],
   "source": [
    "person_instance_1 = Person('Bear', 20)\n",
    "person_instance_2 = Person('pig', 25)\n",
    "\n",
    "print(person_instance_1.information())\n",
    "print(person_instance_2.information())"
   ]
  },
  {
   "cell_type": "markdown",
   "metadata": {},
   "source": [
    "---\n",
    "##01-03 클래스 심화\n",
    "### 01-03-01 네임 스페이스와 스코프\n",
    "\n",
    "*네임스페이스\n",
    "    * 변수이름과 객체를 매핑하는 시스템<br>\n",
    "    * 특정이름이 특정 객체를 가리키도록 하는역할<br>\n",
    "    * 각 네임 스페이스별로 특정 스코프에서 유효하다<br>\n",
    "\n",
    "    1. 지역네임스페이스 : 현재 함수나 메서드 내의 네임스페이스\n",
    "    2. 인스턴스 네임스페이즈 : 인스턴스(객체)내의 네임스페이스\n",
    "    3. 클래스 네임스페이스 : 클래스 객체의 네임스페이스\n",
    "    4. 전역 네임스페이스 : 모듈내의 전역 네임스페이스\n",
    "    5. 내장 네임스페이스 : 파이썬 내장함수와 예외를 포함하는 네임스페이스\n",
    "\n",
    "    *네임 스페이스 검색순서는 가장 가까운(가장 작은)스코프 순서로 로컬->전역->빌트인순이다"
   ]
  },
  {
   "cell_type": "code",
   "execution_count": 13,
   "metadata": {},
   "outputs": [
    {
     "name": "stdout",
     "output_type": "stream",
     "text": [
      "global variable\n",
      "global variable\n",
      "variable\n",
      "인스턴스: isinstance variable\n",
      "local variable\n"
     ]
    }
   ],
   "source": [
    "#전역 네임스페이스\n",
    "variable = \"global variable\"\n",
    "print(f'{variable}')\n",
    "\n",
    "def outer_function():\n",
    "    #지역네임스페이스\n",
    "    print(f'{variable}')\n",
    "    \n",
    "    def inner_function():\n",
    "        #지역(내부함수) 네임스페이스\n",
    "        variable = 'inner variable'\n",
    "        print(f'variable')\n",
    "        \n",
    "    inner_function()\n",
    "\n",
    "outer_function()\n",
    "\n",
    "class TestClass:\n",
    "    #클래스 네임스페이스\n",
    "    variable='class variable'\n",
    "    \n",
    "    def __init__(self, value):\n",
    "        self.variable = value #인스턴스 네임스페이스\n",
    "    \n",
    "    def class_function(self):\n",
    "        variable = \"local variable\"\n",
    "        print(f'{variable}')\n",
    "        \n",
    "obj = TestClass('isinstance variable')\n",
    "print(f'인스턴스: {obj.variable}')\n",
    "\n",
    "obj.class_function()\n"
   ]
  },
  {
   "cell_type": "markdown",
   "metadata": {},
   "source": [
    "### 01-03-02 global, nonlocal\n",
    "*global\n",
    "*함수 내부에서 전역변수를 참조하거나 수정할떄 사용, 함수내부에서 전역변수에 접근이 가능하다\n"
   ]
  },
  {
   "cell_type": "code",
   "execution_count": 14,
   "metadata": {},
   "outputs": [
    {
     "name": "stdout",
     "output_type": "stream",
     "text": [
      "global variable\n",
      "global modified in function\n"
     ]
    }
   ],
   "source": [
    "g_variable = 'global variable'\n",
    "\n",
    "def modify_global():\n",
    "    global g_variable\n",
    "    g_variable = 'global modified in function'\n",
    "    \n",
    "print(g_variable)\n",
    "modify_global()\n",
    "print(g_variable)"
   ]
  },
  {
   "cell_type": "markdown",
   "metadata": {},
   "source": [
    "*nonlocal<br>\n",
    "*중첩함수에서 바깥함수의 변수(로컬변수를 포함)을 참조하거나 수정할떄 사용한다<br>\n",
    "*중첩함수에서 한단계 바깥의 함수변수에 접근이 가능하다"
   ]
  },
  {
   "cell_type": "code",
   "execution_count": 15,
   "metadata": {},
   "outputs": [
    {
     "name": "stdout",
     "output_type": "stream",
     "text": [
      "outer variable\n",
      "outer variable\n"
     ]
    }
   ],
   "source": [
    "def outer_function():\n",
    "    variable = 'outer variable'\n",
    "    \n",
    "    def inner_function():\n",
    "        nonlocal variable\n",
    "        variable = 'outer modified in inner function'\n",
    "    \n",
    "    print(variable)\n",
    "    inner_function()\n",
    "    \n",
    "    print(variable)\n",
    "outer_function()"
   ]
  },
  {
   "cell_type": "markdown",
   "metadata": {},
   "source": [
    "### 01-03-03 private variable\n",
    "*객체 내부에서만 접근할수있는 private은 파이썬에 존재하지 않는다<br>\n",
    "단, 밑줄로 시작하는 네임스페이스를 가진 속성은 private하게 취급된다는 규약을 통해 \n",
    "private속성을 설정할수있다"
   ]
  },
  {
   "cell_type": "code",
   "execution_count": 31,
   "metadata": {},
   "outputs": [
    {
     "name": "stdout",
     "output_type": "stream",
     "text": [
      "산골짜기 다람쥐\n",
      "전사\n",
      "법사\n",
      "잘못된 캐릭터 타입을 선택하였습니다\n"
     ]
    }
   ],
   "source": [
    "class Character:\n",
    "    def __init__(self, nickname, type):\n",
    "        self.nickname = nickname\n",
    "        self.__type = type\n",
    "        \n",
    "    def get_type(self):\n",
    "        return self.__type\n",
    "    \n",
    "    def set_type(self, type):\n",
    "        character_types = ['전사', '법사', '치유사']\n",
    "        \n",
    "        for given_type in character_types:\n",
    "            if(type == given_type):\n",
    "                self.__type = type\n",
    "                return\n",
    "        \n",
    "        #raise파이썬에서 예외를 발생시키는데 사옹되는 키워드    \n",
    "        raise ValueError(\"잘못된 캐릭터 타입을 선택하였습니다\")\n",
    "        \n",
    "my_character = Character(\"산골짜기 다람쥐\",\"전사\")\n",
    "print(my_character.nickname)\n",
    "print(my_character.get_type()) #private attribute에 접근하는 public method사용\n",
    "\n",
    "my_character.set_type(\"법사\")\n",
    "print(my_character.get_type())\n",
    "\n",
    "try:\n",
    "    my_character.set_type(\"흑마법사\")\n",
    "except ValueError as e:\n",
    "    print(e)"
   ]
  },
  {
   "cell_type": "code",
   "execution_count": null,
   "metadata": {},
   "outputs": [],
   "source": []
  }
 ],
 "metadata": {
  "kernelspec": {
   "display_name": "pylecture_env",
   "language": "python",
   "name": "python3"
  },
  "language_info": {
   "codemirror_mode": {
    "name": "ipython",
    "version": 3
   },
   "file_extension": ".py",
   "mimetype": "text/x-python",
   "name": "python",
   "nbconvert_exporter": "python",
   "pygments_lexer": "ipython3",
   "version": "3.12.7"
  }
 },
 "nbformat": 4,
 "nbformat_minor": 2
}
