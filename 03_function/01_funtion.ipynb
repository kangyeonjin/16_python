{
 "cells": [
  {
   "cell_type": "markdown",
   "metadata": {},
   "source": [
    "#01 함수\n",
    "---\n",
    "## 01-01 함수개요\n",
    "\n",
    "### 01-01-01 함수란\n",
    "*특정기능을 하기위한 코드의 집합을 의미한다\n",
    "*함수를 정의해 놓으면 해당기능이 필요한 위치에서 함수를 호출하여 간편하게 사용가능하다\n",
    "\n",
    "## 01-01-02 함수표현식\n",
    "*def 키워드를 사용하여 함수를 정의한다(define)\n",
    "*함수 이름 뒤에 소괄호와 콜론을 작성하며 함수에서 실행할 내용은 **\"반드시\"**들여쓰기한다"
   ]
  },
  {
   "cell_type": "code",
   "execution_count": 1,
   "metadata": {},
   "outputs": [
    {
     "name": "stdout",
     "output_type": "stream",
     "text": [
      "hello world\n"
     ]
    }
   ],
   "source": [
    "def basic_function():\n",
    "    print(\"hello world\")\n",
    "    \n",
    "basic_function()"
   ]
  },
  {
   "cell_type": "markdown",
   "metadata": {},
   "source": [
    "## 01-02. 매개변수\n",
    "### 01-02-01 파라미터\n",
    "* 함수 생성시 함수명 옆에 붙이는 매개변수로 전달 받을 값의 변수명을 넣을 수있다"
   ]
  },
  {
   "cell_type": "code",
   "execution_count": 2,
   "metadata": {},
   "outputs": [
    {
     "name": "stdout",
     "output_type": "stream",
     "text": [
      "연진 : 반갑습니다\n"
     ]
    }
   ],
   "source": [
    "def greeting(name, greet):\n",
    "    print(name, ':' , greet)\n",
    "    \n",
    "greeting(\"연진\", \"반갑습니다\")"
   ]
  },
  {
   "cell_type": "markdown",
   "metadata": {},
   "source": [
    "함수를 정의할때 매개변수의 기본값을 지정할수있다"
   ]
  },
  {
   "cell_type": "code",
   "execution_count": 4,
   "metadata": {},
   "outputs": [
    {
     "name": "stdout",
     "output_type": "stream",
     "text": [
      "연진 : 처음뵙겠습니다\n"
     ]
    }
   ],
   "source": [
    "def greeting(name, greet=\"처음뵙겠습니다\"):\n",
    "    print(name, ':', greet)\n",
    "    \n",
    "greeting(\"연진\")"
   ]
  },
  {
   "cell_type": "markdown",
   "metadata": {},
   "source": [
    "### 01-02-02 인자\n",
    "*함수 호출시 함수명에 소괄호를 붙여 호출하며, 이때 소괄호 안에 전달하는값은 인자라고한다\n",
    "*함수인자를 보내는 방식이 2가지잇다\n",
    "1. 위치인자 : 위치로 매칭하는 방법\n",
    "2. 키워드인자 : 매개변수 이름으로 매칭하는 방법\n",
    "\n",
    "*이떄 위치인자를 먼저 사용하면 뒤에 키워드 인자를 사용할수있다\n",
    "단.위치인자와 키워드 인자를 함께 사용할때, 키워드인자를 먼저 사용하는것은 불가능"
   ]
  },
  {
   "cell_type": "code",
   "execution_count": 5,
   "metadata": {},
   "outputs": [],
   "source": [
    "def information(name, color):\n",
    "    print(f\"{name}의 최애색상 :{color}\")"
   ]
  },
  {
   "cell_type": "code",
   "execution_count": 6,
   "metadata": {},
   "outputs": [
    {
     "name": "stdout",
     "output_type": "stream",
     "text": [
      "태근의 최애색상 :indigo\n",
      "indigo의 최애색상 :태근\n"
     ]
    }
   ],
   "source": [
    "#위치인자\n",
    "#인자의순서가 중요함\n",
    "\n",
    "information('태근','indigo')\n",
    "information('indigo','태근')\n"
   ]
  },
  {
   "cell_type": "code",
   "execution_count": 9,
   "metadata": {},
   "outputs": [
    {
     "name": "stdout",
     "output_type": "stream",
     "text": [
      "태근의 최애색상 :indigo\n",
      "bear의 최애색상 :indigo\n"
     ]
    }
   ],
   "source": [
    "#키워드 인자\n",
    "information(color='indigo', name='태근')\n",
    "\n",
    "information('bear', color ='indigo')\n",
    "#information(name='bear', indigo) #불가능"
   ]
  },
  {
   "cell_type": "markdown",
   "metadata": {},
   "source": [
    "## 01-03 반환값\n",
    "### 01-03-01 return\n",
    "*함수 블럭내부에서 return키워드를 만나면 함수의 작동이 중단된다\n",
    "*return뒤에 변수 또는 값이 오면 해당 값을 함수호출위치에 반환하며 중단된다"
   ]
  },
  {
   "cell_type": "code",
   "execution_count": 10,
   "metadata": {},
   "outputs": [
    {
     "name": "stdout",
     "output_type": "stream",
     "text": [
      "안녕하세요 곰입니다 반갑습니다\n"
     ]
    }
   ],
   "source": [
    "def introduce(name):\n",
    "    return f'안녕하세요 {name}입니다 반갑습니다'\n",
    "\n",
    "result = introduce('곰')\n",
    "print(result)"
   ]
  },
  {
   "cell_type": "markdown",
   "metadata": {},
   "source": [
    "*return값을 여러개로 전달할수있다 (튜플)"
   ]
  },
  {
   "cell_type": "code",
   "execution_count": 14,
   "metadata": {},
   "outputs": [
    {
     "name": "stdout",
     "output_type": "stream",
     "text": [
      "(10, 4, 21, 2.3333333333333335)\n",
      "10 4 21 2.3333333333333335\n"
     ]
    }
   ],
   "source": [
    "def cal(a,b):\n",
    "    return a+b, a-b, a*b, a/b\n",
    "print(cal(7,3))\n",
    "\n",
    "plus, minus, multiply, divide = cal(7,3)\n",
    "print(plus, minus, multiply, divide)"
   ]
  },
  {
   "cell_type": "markdown",
   "metadata": {},
   "source": [
    "## 01-03 패키징과 언패키징\n",
    "### 01-04-01 패키징\n",
    "*위치인자가 많을댸 매개변수에 *을 붙여서 하나의 객체로 처리할수있다"
   ]
  },
  {
   "cell_type": "code",
   "execution_count": null,
   "metadata": {},
   "outputs": [],
   "source": [
    "def add_many(*args):\n",
    "    \n",
    "    result =0 \n",
    "    \n",
    "    for i in args:\n",
    "        result = result +i\n",
    "    \n",
    "    return result\n",
    "\n",
    "result = add_many(1,2,3,4,5,6,7,8,9,10)\n",
    "\n",
    "print(result)"
   ]
  },
  {
   "cell_type": "markdown",
   "metadata": {},
   "source": [
    "키워드 인자인경우 **을 붙여서 하나의 객체로 처리할수있다"
   ]
  },
  {
   "cell_type": "code",
   "execution_count": 15,
   "metadata": {},
   "outputs": [
    {
     "name": "stdout",
     "output_type": "stream",
     "text": [
      "name:곰\n",
      "age:20\n",
      "job:강사\n",
      "hobby:코딩\n"
     ]
    }
   ],
   "source": [
    "def print_person_info(**kewargs):\n",
    "    \n",
    "    for key, value in kewargs.items():\n",
    "        print(f'{key}:{value}')\n",
    "    \n",
    "\n",
    "print_person_info(name ='곰', age ='20', job='강사', hobby='코딩')"
   ]
  },
  {
   "cell_type": "markdown",
   "metadata": {},
   "source": [
    "01-02-02 언패키징<br>\n",
    "패키징과 반대되는 개념으로 여러개의 객체를 포함하는 하나의 객체를 풀어준다"
   ]
  },
  {
   "cell_type": "code",
   "execution_count": 16,
   "metadata": {},
   "outputs": [
    {
     "name": "stdout",
     "output_type": "stream",
     "text": [
      "6\n"
     ]
    }
   ],
   "source": [
    "def sum(a,b,c):\n",
    "    return a+b+c\n",
    "\n",
    "number=[1,2,3]\n",
    "\n",
    "print(sum(*number))"
   ]
  },
  {
   "cell_type": "markdown",
   "metadata": {},
   "source": [
    "---\n",
    "## 01-05 람다(lamda)\n",
    "### 01-05-01 람다란\n",
    "*람다는 일회성의 간단한 함수를 정의할떄 유용하게 사용할수있는, 함수를 보다 간단하고 쉽게 선언하는방법<br>\n",
    "*매개변수로 함수를 전달해야할떄, 함수구문을 작성하는것이 번거롭고 코드가 지나치게 길어질때 사용한다<br>\n",
    "*즉, 함수기능을 매개변수로 전달하는 코드를 더 효율저긍로 작성하게 해준다"
   ]
  },
  {
   "cell_type": "markdown",
   "metadata": {},
   "source": [
    "01-05-02 람다사용예시\n",
    "1. 람다기본"
   ]
  },
  {
   "cell_type": "code",
   "execution_count": null,
   "metadata": {},
   "outputs": [],
   "source": [
    "변수명 = lambda(매개변수):(함수실행내용)"
   ]
  },
  {
   "cell_type": "code",
   "execution_count": 17,
   "metadata": {},
   "outputs": [
    {
     "name": "stdout",
     "output_type": "stream",
     "text": [
      "8\n"
     ]
    }
   ],
   "source": [
    "add = lambda x,y : x + y\n",
    "\n",
    "print(add(3,5))"
   ]
  },
  {
   "cell_type": "markdown",
   "metadata": {},
   "source": [
    "3. 람다함수를 고차함수의 인자로 전달"
   ]
  },
  {
   "cell_type": "code",
   "execution_count": 19,
   "metadata": {},
   "outputs": [
    {
     "name": "stdout",
     "output_type": "stream",
     "text": [
      "[1, 4, 9, 16, 25]\n"
     ]
    }
   ],
   "source": [
    "def square(x):\n",
    "    return x**2\n",
    "\n",
    "numbers = [1,2,3,4,5]\n",
    "\n",
    "#map :\n",
    "# 첫번째 인자로주어진 함수를 두번쨰 주어진 리스트의 각각의 요소에 적용하여 새로운 리스트를 반환\n",
    "\n",
    "squared_numbers = map(square, numbers)\n",
    "\n",
    "squared_numbers = map(lambda x :x**2, numbers)\n",
    "\n",
    "print(list(squared_numbers))\n"
   ]
  },
  {
   "cell_type": "markdown",
   "metadata": {},
   "source": [
    "3. 람다 함수를 고차함수의 인자로 전달( 배열 요소 필터링)\n",
    "*filter()\n",
    "*첫번쨰 인자로 주어진 함수를 두번쨰 인자로 주어진 리스트의 각 요소에 적용해, \n",
    "조건을 만족하는 요소들만 포함하는 객체를 반환한다"
   ]
  },
  {
   "cell_type": "code",
   "execution_count": 21,
   "metadata": {},
   "outputs": [
    {
     "name": "stdout",
     "output_type": "stream",
     "text": [
      "[2, 4, 6]\n"
     ]
    }
   ],
   "source": [
    "numbers = [1,2,3,4,5,6]\n",
    "\n",
    "even_numbers = filter(lambda x : x % 2 == 0, numbers)\n",
    "\n",
    "print(list(even_numbers))"
   ]
  },
  {
   "cell_type": "markdown",
   "metadata": {},
   "source": [
    "##01-05-03 삼항연산자"
   ]
  },
  {
   "cell_type": "code",
   "execution_count": 22,
   "metadata": {},
   "outputs": [],
   "source": [
    "def func(a):\n",
    "    if a >10:\n",
    "        return 'a가 10보다 크다'\n",
    "    else:\n",
    "        return 'a가 10보다 작다'\n",
    "    \n",
    "def func2(a):\n",
    "    return 'a가 10보다 크다' if a>10 else 'a가 10보다 작다'"
   ]
  },
  {
   "cell_type": "code",
   "execution_count": 23,
   "metadata": {},
   "outputs": [
    {
     "name": "stdout",
     "output_type": "stream",
     "text": [
      "['음수', '음수', 0, '양수', '양수']\n"
     ]
    }
   ],
   "source": [
    "#list를 양수, 음수 0으로구분지어 같은 길이의 리스트로 반환\n",
    "\n",
    "numbers = [-3,-2,0,6,8]\n",
    "\n",
    "numbers_change = map(lambda i :'양수' if i >0 else('음수'if i <0 else 0), numbers)\n",
    "\n",
    "print(list(numbers_change))"
   ]
  }
 ],
 "metadata": {
  "kernelspec": {
   "display_name": "pylecture_env",
   "language": "python",
   "name": "python3"
  },
  "language_info": {
   "codemirror_mode": {
    "name": "ipython",
    "version": 3
   },
   "file_extension": ".py",
   "mimetype": "text/x-python",
   "name": "python",
   "nbconvert_exporter": "python",
   "pygments_lexer": "ipython3",
   "version": "3.12.7"
  }
 },
 "nbformat": 4,
 "nbformat_minor": 2
}
