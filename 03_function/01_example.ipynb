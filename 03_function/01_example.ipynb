{
 "cells": [
  {
   "cell_type": "markdown",
   "metadata": {
    "vscode": {
     "languageId": "plaintext"
    }
   },
   "source": [
    "\n",
    "### 여러 개의 숫자를 입력받아 \n",
    "### 모두 곱한 결과를 반환하는 \n",
    "### multiply_all 함수를 만드세요."
   ]
  },
  {
   "cell_type": "code",
   "execution_count": 7,
   "metadata": {},
   "outputs": [
    {
     "name": "stdout",
     "output_type": "stream",
     "text": [
      "25\n"
     ]
    }
   ],
   "source": [
    "\n",
    "\n",
    "def multiply_all():\n",
    "    numbers = input(\"숫자를 입력하세요\") \n",
    "    numbers = [num.strip() for num in numbers.split(',') if num.strip()]\n",
    "    numbers = [int(num) for num in numbers]\n",
    "\n",
    "    result = 1\n",
    "    for number in numbers:\n",
    "        result *= number\n",
    "    return result\n",
    "\n",
    "# 함수 호출예시\n",
    "print(multiply_all())"
   ]
  },
  {
   "cell_type": "markdown",
   "metadata": {},
   "source": [
    "\n",
    "### 숫자를 입력받아 양수인지 음수인지 0인지 판별하는 \n",
    "### check_number 함수를 삼항 연산자를 사용하여 만드세요."
   ]
  },
  {
   "cell_type": "code",
   "execution_count": 13,
   "metadata": {},
   "outputs": [
    {
     "name": "stdout",
     "output_type": "stream",
     "text": [
      "음수입니다\n"
     ]
    }
   ],
   "source": [
    "number = int(input(\"숫자를 입력하세요\"))\n",
    "\n",
    "def func(number):\n",
    "    if number > 0:\n",
    "        return '양수입니다'\n",
    "    elif number < 0:\n",
    "        return '음수입니다'\n",
    "    else:\n",
    "        return '0입니다'\n",
    "\n",
    "print(func(number))"
   ]
  },
  {
   "cell_type": "markdown",
   "metadata": {
    "vscode": {
     "languageId": "plaintext"
    }
   },
   "source": [
    "\n",
    "### 주어진 리스트의 각 요소를 \n",
    "### 제곱하는 람다 함수를 작성하세요.\n",
    "numbers = [1, 2, 3, 4, 5]"
   ]
  },
  {
   "cell_type": "code",
   "execution_count": 14,
   "metadata": {},
   "outputs": [
    {
     "name": "stdout",
     "output_type": "stream",
     "text": [
      "[1, 4, 9, 16, 25]\n"
     ]
    }
   ],
   "source": [
    "numbers = [1, 2, 3, 4, 5]\n",
    "squared_numbers = list(map(lambda x: x**2, numbers))\n",
    "\n",
    "print(squared_numbers)"
   ]
  }
 ],
 "metadata": {
  "kernelspec": {
   "display_name": "pylecture_env",
   "language": "python",
   "name": "python3"
  },
  "language_info": {
   "codemirror_mode": {
    "name": "ipython",
    "version": 3
   },
   "file_extension": ".py",
   "mimetype": "text/x-python",
   "name": "python",
   "nbconvert_exporter": "python",
   "pygments_lexer": "ipython3",
   "version": "3.12.7"
  }
 },
 "nbformat": 4,
 "nbformat_minor": 2
}
