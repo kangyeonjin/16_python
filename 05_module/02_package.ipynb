{
 "cells": [
  {
   "cell_type": "markdown",
   "metadata": {},
   "source": [
    "# 02. 패키지(package)\n",
    "---\n",
    "## 02-01 패키지 개요\n",
    "### 패키지란?\n",
    "*관련있는 함수 클래스, 변수등을 묶어 만든 모듈을 폴더로 구분하여 관리하는것<br>\n",
    "*하나이상의 모듈을 가지고 있는 폴더를 패키지라고 부른다"
   ]
  },
  {
   "cell_type": "markdown",
   "metadata": {},
   "source": [
    "### 02-01-02 패키지 import\n",
    "*패키지에 포함된 모듈을 import하기위해 import구문에서 모듈명앞에 **패키지명**을 붙여준다<br>\n",
    "*사용할때도 패키지명, 모듈명을 붙여 사용한다"
   ]
  },
  {
   "cell_type": "code",
   "execution_count": 1,
   "metadata": {},
   "outputs": [
    {
     "name": "stdout",
     "output_type": "stream",
     "text": [
      "크왕\n"
     ]
    }
   ],
   "source": [
    "import og.team.teacher\n",
    "\n",
    "print(og.team.teacher.gorilla())"
   ]
  },
  {
   "cell_type": "code",
   "execution_count": 2,
   "metadata": {},
   "outputs": [
    {
     "name": "stdout",
     "output_type": "stream",
     "text": [
      "크왕\n"
     ]
    }
   ],
   "source": [
    "#별칭으로 사용\n",
    "import og.team.teacher as teacher\n",
    "\n",
    "print(teacher.gorilla())"
   ]
  },
  {
   "cell_type": "code",
   "execution_count": null,
   "metadata": {},
   "outputs": [],
   "source": [
    "#from - import사용\n",
    "from og.team.teacher import gorilla\n",
    "\n",
    "print(gorilla())"
   ]
  },
  {
   "cell_type": "markdown",
   "metadata": {},
   "source": [
    "---\n",
    "## 02-02 PYPI(Python package Index)\n",
    "### 02-02-01 pypi란?\n",
    "* 개인 혹은 단체에 의해 개발 및 유지되는 파이썬 외부 라이브러리 호스팅하고 배포하는 공식 저장소<br>\n",
    "* 파이썬 패키지 관리 시스템인 **pip**를 통해 설치하여 사용가능하다\n",
    "* https://pypi.org/"
   ]
  },
  {
   "cell_type": "markdown",
   "metadata": {},
   "source": [
    "### 02-02-02 pip?\n",
    "*pypi에 공유된 패키지를 검색하고 설치하기 위한 명령어\n",
    "*pip 명령어를 활용하여 특정 패키지 설치, 업그레이드, 제거, 패키지 목록관리등을 할수있다\n"
   ]
  },
  {
   "cell_type": "markdown",
   "metadata": {},
   "source": [
    "| **명령어** | **의미** |\n",
    "| --- | --- |\n",
    "| pip install *패키지명* | PyPI에서 패키지명으로 검색하여 최신 버전 설치 |\n",
    "| pip install *패키지명*==*버전* | 특정 버전의 패키지를 설치 |\n",
    "| pip list | 설치된 전체 패키지 및 버전 확인 |\n",
    "| pip list | grep *패키지명* | 설치된 특정 패키지 및 해당 패키지의 버전 확인 |\n",
    "| pip install --upgrade *패키지명* | 특정 패키지의 버전 업데이트 |\n",
    "| pip uninstall *패키지명* | 설치된 특정 패키지 제거 |"
   ]
  },
  {
   "cell_type": "markdown",
   "metadata": {},
   "source": [
    "*패키지가 '의존성'으로 인해 pip install시 명시한 패키지 외의 다른 패키지가 같이 설치되기도 한다"
   ]
  },
  {
   "cell_type": "markdown",
   "metadata": {},
   "source": [
    "### 02-02-03 requirements.txt\n",
    "\n",
    "*파이썬으로 인공지능 서빙 프로그램을 만들때, 프로그램의 종속성 관리를 위해 사용하는 파일의 통상적이름<br>\n",
    "*프로젝트에서 사용되는 모든 패키지와 버전이 나열되어있어, 프로젝트를 배포하거나 다른 환경에서 실행할때 <br>\n",
    "동일한패키지 환경을 제공할수 있도록한다."
   ]
  },
  {
   "cell_type": "code",
   "execution_count": 3,
   "metadata": {},
   "outputs": [
    {
     "name": "stdout",
     "output_type": "stream",
     "text": [
      "Note: you may need to restart the kernel to use updated packages.\n"
     ]
    }
   ],
   "source": [
    "pip freeze > requirements.txt"
   ]
  },
  {
   "cell_type": "markdown",
   "metadata": {},
   "source": [
    "*requirements.txt 파일을 이용한 라이브러리 설치\n",
    "*-r 옵션뒤에 오는 파일 경로를 읽어 해당파일내에 명시된 패키지를 설치한다"
   ]
  },
  {
   "cell_type": "code",
   "execution_count": null,
   "metadata": {},
   "outputs": [],
   "source": [
    "#\n",
    "pip install -r requirements.txt"
   ]
  },
  {
   "cell_type": "markdown",
   "metadata": {},
   "source": [
    "*requirements.txt 사용시 주의사항<br>\n",
    "    *가상환경 사용 : requirements.txt 파일을 생성하기전에 가상환경을 사용하는것이 좋다<br>\n",
    "    *프로젝트에 필요한 패키지들만 requirement.txt에 포함되게 하여,\n",
    "    불필요한 패키지들이 포함되는 것을 방지\n",
    "    *패키지 버전관리: requirements.txt파일에 포함된 패키지 버전을 고정하면, 환경의 일관성을 유지할수있다<br>\n",
    "    필요에 따라 버전을 업데이트하는것도 중요하다<br>\n",
    "    *선별적인 설치 : 특정 패키지를 무시하거나 선택적으로 설치하고 싶다면,<br>\n",
    "    requirements.txt파일을 편집하면된다.\n"
   ]
  },
  {
   "cell_type": "code",
   "execution_count": null,
   "metadata": {},
   "outputs": [],
   "source": []
  }
 ],
 "metadata": {
  "kernelspec": {
   "display_name": "pylecture_env",
   "language": "python",
   "name": "python3"
  },
  "language_info": {
   "codemirror_mode": {
    "name": "ipython",
    "version": 3
   },
   "file_extension": ".py",
   "mimetype": "text/x-python",
   "name": "python",
   "nbconvert_exporter": "python",
   "pygments_lexer": "ipython3",
   "version": "3.12.7"
  }
 },
 "nbformat": 4,
 "nbformat_minor": 2
}
